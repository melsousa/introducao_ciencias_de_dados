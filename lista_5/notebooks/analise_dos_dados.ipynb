{
 "cells": [
  {
   "cell_type": "code",
   "execution_count": 1,
   "id": "a6478602",
   "metadata": {},
   "outputs": [],
   "source": [
    "import pandas as pd\n",
    "import matplotlib as plt\n",
    "from wordcloud import WordCloud"
   ]
  },
  {
   "cell_type": "code",
   "execution_count": 3,
   "id": "47e3c4ed",
   "metadata": {},
   "outputs": [
    {
     "data": {
      "text/html": [
       "<div>\n",
       "<style scoped>\n",
       "    .dataframe tbody tr th:only-of-type {\n",
       "        vertical-align: middle;\n",
       "    }\n",
       "\n",
       "    .dataframe tbody tr th {\n",
       "        vertical-align: top;\n",
       "    }\n",
       "\n",
       "    .dataframe thead th {\n",
       "        text-align: right;\n",
       "    }\n",
       "</style>\n",
       "<table border=\"1\" class=\"dataframe\">\n",
       "  <thead>\n",
       "    <tr style=\"text-align: right;\">\n",
       "      <th></th>\n",
       "      <th>texto_original</th>\n",
       "      <th>frequencia</th>\n",
       "      <th>texto_limpo</th>\n",
       "      <th>text_processed</th>\n",
       "    </tr>\n",
       "  </thead>\n",
       "  <tbody>\n",
       "    <tr>\n",
       "      <th>0</th>\n",
       "      <td>▪️ 01/11/2022 - 08:00 \\n\\nÁsia-Pacífico (fecha...</td>\n",
       "      <td>10</td>\n",
       "      <td>01112022 0800 asiapacifico fechado spasx 165 6...</td>\n",
       "      <td>01112022 0800 asiapacifico fechado spasx 165 6...</td>\n",
       "    </tr>\n",
       "    <tr>\n",
       "      <th>1</th>\n",
       "      <td>*02.10.2022 TSE - Governo-SP às 18h 59m 00s*</td>\n",
       "      <td>8</td>\n",
       "      <td>02102022 tse governosp as 18h 59m 00s</td>\n",
       "      <td>02102022 tse governosp 18h 59m 00s</td>\n",
       "    </tr>\n",
       "    <tr>\n",
       "      <th>2</th>\n",
       "      <td>02.10.2022 TSE - Governo-SP às 20h 10m 35s</td>\n",
       "      <td>4</td>\n",
       "      <td>02102022 tse governosp as 20h 10m 35s</td>\n",
       "      <td>02102022 tse governosp 20h 10m 35s</td>\n",
       "    </tr>\n",
       "    <tr>\n",
       "      <th>3</th>\n",
       "      <td>02.10.2022 TSE - Presidente - às 18h 55m 31s</td>\n",
       "      <td>10</td>\n",
       "      <td>02102022 tse presidente as 18h 55m 31s</td>\n",
       "      <td>02102022 tse presidente 18h 55m 31s</td>\n",
       "    </tr>\n",
       "    <tr>\n",
       "      <th>4</th>\n",
       "      <td>*02.10.2022 TSE - Presidente às 20h 02m 45s*</td>\n",
       "      <td>3</td>\n",
       "      <td>02102022 tse presidente as 20h 02m 45s</td>\n",
       "      <td>02102022 tse presidente 20h 02m 45s</td>\n",
       "    </tr>\n",
       "  </tbody>\n",
       "</table>\n",
       "</div>"
      ],
      "text/plain": [
       "                                      texto_original  frequencia  \\\n",
       "0  ▪️ 01/11/2022 - 08:00 \\n\\nÁsia-Pacífico (fecha...          10   \n",
       "1       *02.10.2022 TSE - Governo-SP às 18h 59m 00s*           8   \n",
       "2         02.10.2022 TSE - Governo-SP às 20h 10m 35s           4   \n",
       "3       02.10.2022 TSE - Presidente - às 18h 55m 31s          10   \n",
       "4       *02.10.2022 TSE - Presidente às 20h 02m 45s*           3   \n",
       "\n",
       "                                         texto_limpo  \\\n",
       "0  01112022 0800 asiapacifico fechado spasx 165 6...   \n",
       "1              02102022 tse governosp as 18h 59m 00s   \n",
       "2              02102022 tse governosp as 20h 10m 35s   \n",
       "3             02102022 tse presidente as 18h 55m 31s   \n",
       "4             02102022 tse presidente as 20h 02m 45s   \n",
       "\n",
       "                                      text_processed  \n",
       "0  01112022 0800 asiapacifico fechado spasx 165 6...  \n",
       "1                 02102022 tse governosp 18h 59m 00s  \n",
       "2                 02102022 tse governosp 20h 10m 35s  \n",
       "3                02102022 tse presidente 18h 55m 31s  \n",
       "4                02102022 tse presidente 20h 02m 45s  "
      ]
     },
     "execution_count": 3,
     "metadata": {},
     "output_type": "execute_result"
    }
   ],
   "source": [
    "df = pd.read_csv('../dataset/mensagens_com_frequencia_e_texto_processado.csv')\n",
    "df.head()"
   ]
  },
  {
   "cell_type": "code",
   "execution_count": 4,
   "id": "7e078b90",
   "metadata": {},
   "outputs": [
    {
     "data": {
      "text/html": [
       "<div>\n",
       "<style scoped>\n",
       "    .dataframe tbody tr th:only-of-type {\n",
       "        vertical-align: middle;\n",
       "    }\n",
       "\n",
       "    .dataframe tbody tr th {\n",
       "        vertical-align: top;\n",
       "    }\n",
       "\n",
       "    .dataframe thead th {\n",
       "        text-align: right;\n",
       "    }\n",
       "</style>\n",
       "<table border=\"1\" class=\"dataframe\">\n",
       "  <thead>\n",
       "    <tr style=\"text-align: right;\">\n",
       "      <th></th>\n",
       "      <th>frequencia</th>\n",
       "    </tr>\n",
       "  </thead>\n",
       "  <tbody>\n",
       "    <tr>\n",
       "      <th>count</th>\n",
       "      <td>188264.000000</td>\n",
       "    </tr>\n",
       "    <tr>\n",
       "      <th>mean</th>\n",
       "      <td>1.815801</td>\n",
       "    </tr>\n",
       "    <tr>\n",
       "      <th>std</th>\n",
       "      <td>40.573527</td>\n",
       "    </tr>\n",
       "    <tr>\n",
       "      <th>min</th>\n",
       "      <td>1.000000</td>\n",
       "    </tr>\n",
       "    <tr>\n",
       "      <th>25%</th>\n",
       "      <td>1.000000</td>\n",
       "    </tr>\n",
       "    <tr>\n",
       "      <th>50%</th>\n",
       "      <td>1.000000</td>\n",
       "    </tr>\n",
       "    <tr>\n",
       "      <th>75%</th>\n",
       "      <td>1.000000</td>\n",
       "    </tr>\n",
       "    <tr>\n",
       "      <th>max</th>\n",
       "      <td>17422.000000</td>\n",
       "    </tr>\n",
       "  </tbody>\n",
       "</table>\n",
       "</div>"
      ],
      "text/plain": [
       "          frequencia\n",
       "count  188264.000000\n",
       "mean        1.815801\n",
       "std        40.573527\n",
       "min         1.000000\n",
       "25%         1.000000\n",
       "50%         1.000000\n",
       "75%         1.000000\n",
       "max     17422.000000"
      ]
     },
     "execution_count": 4,
     "metadata": {},
     "output_type": "execute_result"
    }
   ],
   "source": [
    "df.describe()"
   ]
  },
  {
   "cell_type": "code",
   "execution_count": 5,
   "id": "45376dfe",
   "metadata": {},
   "outputs": [
    {
     "data": {
      "text/plain": [
       "(188264, 4)"
      ]
     },
     "execution_count": 5,
     "metadata": {},
     "output_type": "execute_result"
    }
   ],
   "source": [
    "df.shape"
   ]
  },
  {
   "cell_type": "code",
   "execution_count": 6,
   "id": "9d2ad8ef",
   "metadata": {},
   "outputs": [
    {
     "ename": "KeyError",
     "evalue": "'None of [Index([\\'▪️ 01/11/2022 - 08:00 \\\\n\\\\nÁsia-Pacífico (fechado)\\\\n🟢 🇦🇺S&P/ASX     +1,65%   6.976,90\\\\n🟢 🇯🇵Nikkei      +0,33%  27.678,92\\\\n🟢 🇰🇷KOSPI       +1,81%   2.335,22\\\\n🟢 🇨🇳Shanghai    +2,62%   2.969,20\\\\n🟢 🇭🇰Hang Seng   +5,23%  15.455,27\\\\n\\\\nEuropa\\\\n🟢 🇩🇪DAX          +1,22%  13.415,69\\\\n🟢 🇬🇧FTSE 100     +1,59%   7.207,66\\\\n⚪️ 🇫🇷CAC 40      fechado \\\\n🟢 🇪🇺EuroStoxx50  +1,57%   3.674,25\\\\n\\\\n📌 youtube.com/AlexEconomia\\\\n🔸 t.me/alexeconomia\\',\\n       \\'*02.10.2022 TSE - Governo-SP às 18h 59m 00s*\\',\\n       \\'02.10.2022 TSE - Governo-SP às 20h 10m 35s\\',\\n       \\'02.10.2022 TSE - Presidente - às 18h 55m 31s\\',\\n       \\'*02.10.2022 TSE - Presidente às 20h 02m 45s*\\',\\n       \\'02.10.2022 TSE - Presidente às 22h 21m 36s\\',\\n       \\'02.10.2022 TSE - Prévia das 17h 44m 10s\\',\\n       \\'02.10.2022 TSE - Senado-SP às 19h 20m 53s\\',\\n       \\'*02/11 AS 09:00*\\\\n\\\\n\\\\nPRA RUA!!!!🇧🇷🇧🇷🇧🇷🇧🇷🇧🇷🇧🇷🇧🇷\\\\nPRA RUA!!!!🇧🇷🇧🇷🇧🇷🇧🇷🇧🇷🇧🇷🇧🇷\\\\nPRA RUA!!!!🇧🇷🇧🇷🇧🇷🇧🇷🇧🇷🇧🇷🇧🇷\\\\nPRA RUA!!!!🇧🇷🇧🇷🇧🇷🇧🇷🇧🇷🇧🇷🇧🇷\\\\nPRA RUA!!!!🇧🇷🇧🇷🇧🇷🇧🇷🇧🇷🇧🇷🇧🇷\\\\nPRA RUA!!!!🇧🇷🇧🇷🇧🇷🇧🇷🇧🇷🇧🇷🇧🇷\\\\nPRA RUA!!!!🇧🇷🇧🇷🇧🇷🇧🇷🇧🇷🇧🇷🇧🇷\\\\nPRA RUA!!!!🇧🇷🇧🇷🇧🇷🇧🇷🇧🇷🇧🇷🇧🇷\\\\nPRA RUA!!!!🇧🇷🇧🇷🇧🇷🇧🇷🇧🇷🇧🇷🇧🇷\\\\nPRA RUA!!!!🇧🇷🇧🇷🇧🇷🇧🇷🇧🇷🇧🇷🇧🇷\\\\nPRA RUA!!!!🇧🇷🇧🇷🇧🇷🇧🇷🇧🇷🇧🇷🇧🇷\\\\nPRA RUA!!!!🇧🇷🇧🇷🇧🇷🇧🇷🇧🇷🇧🇷🇧🇷\\\\nPRA RUA!!!!🇧🇷🇧🇷🇧🇷🇧🇷🇧🇷🇧🇷🇧🇷\\\\nPRA RUA!!!!🇧🇷🇧🇷🇧🇷🇧🇷🇧🇷🇧🇷🇧🇷\\\\nPRA RUA!!!!🇧🇷🇧🇷🇧🇷🇧🇷🇧🇷🇧🇷🇧🇷\\\\nPRA RUA!!!!🇧🇷🇧🇷🇧🇷🇧🇷🇧🇷🇧🇷🇧🇷\\\\nPRA RUA!!!!🇧🇷🇧🇷🇧🇷🇧🇷🇧🇷🇧🇷🇧🇷\\\\nPRA RUA!!!!🇧🇷🇧🇷🇧🇷🇧🇷🇧🇷🇧🇷🇧🇷\\\\nPRA RUA!!!!🇧🇷🇧🇷🇧🇷🇧🇷🇧🇷🇧🇷🇧🇷\\\\nPRA RUA!!!!🇧🇷🇧🇷🇧🇷🇧🇷🇧🇷🇧🇷🇧🇷\\\\nPRA RUA!!!!🇧🇷🇧🇷🇧🇷🇧🇷🇧🇷🇧🇷🇧🇷\\\\nPRA RUA!!!!🇧🇷🇧🇷🇧🇷🇧🇷🇧🇷🇧🇷🇧🇷\\\\nPRA RUA!!!!🇧🇷🇧🇷🇧🇷🇧🇷🇧🇷🇧🇷🇧🇷\\\\nPRA RUA!!!!🇧🇷🇧🇷🇧🇷🇧🇷🇧🇷🇧🇷🇧🇷\\\\nPRA RUA!!!!🇧🇷🇧🇷🇧🇷🇧🇷🇧🇷🇧🇷🇧🇷\\\\nPRA RUA!!!!🇧🇷🇧🇷🇧🇷🇧🇷🇧🇷🇧🇷🇧🇷\\\\nPRA RUA!!!!🇧🇷🇧🇷🇧🇷🇧🇷🇧🇷🇧🇷🇧🇷\\\\nPRA RUA!!!!🇧🇷🇧🇷🇧🇷🇧🇷🇧🇷🇧🇷🇧🇷\\\\nPRA RUA!!!!🇧🇷🇧🇷🇧🇷🇧🇷🇧🇷🇧🇷🇧🇷\\\\nPRA RUA!!!!🇧🇷🇧🇷🇧🇷🇧🇷🇧🇷🇧🇷🇧🇷\\\\nPRA RUA!!!!🇧🇷🇧🇷🇧🇷🇧🇷🇧🇷🇧🇷🇧🇷\\\\nPRA RUA!!!!🇧🇷🇧🇷🇧🇷🇧🇷🇧🇷🇧🇷🇧🇷\\\\nPRA RUA!!!!🇧🇷🇧🇷🇧🇷🇧🇷🇧🇷🇧🇷🇧🇷\\\\nPRA RUA!!!!🇧🇷🇧🇷🇧🇷🇧🇷🇧🇷🇧🇷🇧🇷\\\\nPRA RUA!!!!🇧🇷🇧🇷🇧🇷🇧🇷🇧🇷🇧🇷🇧🇷\\\\nPRA RUA!!!!🇧🇷🇧🇷🇧🇷🇧🇷🇧🇷🇧🇷🇧🇷\\\\nPRA RUA!!!!🇧🇷🇧🇷🇧🇷🇧🇷🇧🇷🇧🇷🇧🇷\\\\nPRA RUA!!!!🇧🇷🇧🇷🇧🇷🇧🇷🇧🇷🇧🇷🇧🇷\\\\nPRA RUA!!!!🇧🇷🇧🇷🇧🇷🇧🇷🇧🇷🇧🇷🇧🇷\\\\nPRA RUA!!!!🇧🇷🇧🇷🇧🇷🇧🇷🇧🇷🇧🇷🇧🇷\\\\nPRA RUA!!!!🇧🇷🇧🇷🇧🇷🇧🇷🇧🇷🇧🇷🇧🇷\\\\nPRA RUA!!!!🇧🇷🇧🇷🇧🇷🇧🇷🇧🇷🇧🇷🇧🇷\\\\nPRA RUA!!!!🇧🇷🇧🇷🇧🇷🇧🇷🇧🇷🇧🇷🇧🇷\\\\nPRA RUA!!!!🇧🇷🇧🇷🇧🇷🇧🇷🇧🇷🇧🇷🇧🇷\\\\nPRA RUA!!!!🇧🇷🇧🇷🇧🇷🇧🇷🇧🇷🇧🇷🇧🇷\\\\nPRA RUA!!!!🇧🇷🇧🇷🇧🇷🇧🇷🇧🇷🇧🇷🇧🇷\\\\nPRA RUA!!!!🇧🇷🇧🇷🇧🇷🇧🇷🇧🇷🇧🇷🇧🇷\\\\nPRA RUA!!!!🇧🇷🇧🇷🇧🇷🇧🇷🇧🇷🇧🇷🇧🇷\\\\nPRA RUA!!!!🇧🇷🇧🇷🇧🇷🇧🇷🇧🇷🇧🇷🇧🇷\\\\nPRA RUA!!!!🇧🇷🇧🇷🇧🇷🇧🇷🇧🇷🇧🇷🇧🇷\\\\nPRA RUA!!!!🇧🇷🇧🇷🇧🇷🇧🇷🇧🇷🇧🇷🇧🇷\\\\nPRA RUA!!!!🇧🇷🇧🇷🇧🇷🇧🇷🇧🇷🇧🇷🇧🇷\\\\nPRA RUA!!!!🇧🇷🇧🇷🇧🇷🇧🇷🇧🇷🇧🇷🇧🇷\\\\nPRA RUA!!!!🇧🇷🇧🇷🇧🇷🇧🇷🇧🇷🇧🇷🇧🇷\\\\nPRA RUA!!!!🇧🇷🇧🇷🇧🇷🇧🇷🇧🇷🇧🇷🇧🇷\\\\nPRA RUA!!!!🇧🇷🇧🇷🇧🇷🇧🇷🇧🇷🇧🇷🇧🇷\\\\n\\\\n\\\\nRESPOSTEM EM TODOS OS GRUPOS\\U0001fae1👊🥾💥🔥\\',\\n       \\'🗳📃 — 0,31% dos votos contados\\',\\n       ...\\n       \\'Zuckerberg chegou a ter um patrimônio de US$ 140 bilhões. Com a queda de hoje, está com \"apenas\" US$ 38 bi.\\',\\n       \\'Zuckerberg corta 11.000 empregos no proprietário do Facebook Meta.\\\\n\\\\nEle pede desculpas por \"errar\" em uma mensagem para a equipe.\\\\n\\\\nt.me/eleestavoltando\\',\\n       \\'Zuckerberg e sua equipe no Facebook (Meta) estão passando por um momento difícil, pois as ações continuam caindo.\\\\n\\\\nA Forbes informa que o patrimônio líquido de Zuckerberg caiu US$ 11 bilhões ontem e US$ 100 bilhões no total desde que as ações da Meta atingiram o pico.\\\\n\\\\nAções da Amazon também caem - queda de 20% após divulgação de resultados\\',\\n       \\'Zuckerberg\\'s net worth drops $80bn this year alone.\\\\n\\\\nhttps://is.gd/oiCEuI\\',\\n       \\'Zullen wij hier nooit in de leugen media zien, hier in Nederland zijn het idioten en geloven wat er in de nazi Media word gezegd, ik zeg neem allemaal de booster en graag in een formaat van de grote van een grote milkshake, liever vandaag nog dan morgen, en met onze regering word straks wel afgerekend en definitief.\\',\\n       \\'‘Zum Zum Zum’ em brasólia…\\\\n\\\\nA bem da paz social,\\\\n\\\\nXandão, o Degolador, a qualquer momento, deve vir a público e anunciar a desclassificação do chefe da quadrilha.\\\\n\\\\nAguardemos a sensatez.\\',\\n       \\'ZUMBI NÃO ESCOLHE LUGAR PARA MORDER. O OBJETIVO DELES É COMER O QUE VER \\\\n\\\\nhttps://www.obomdanoticia.com.br/saude-bem-estar/homem-fica-com-pnis-nbsp-necrosado-nbsp-aps-mordida-e-s-procura-ajuda-cinco-dias-depois/36565\\\\n\\\\n[USER]\\',\\n       \\'ZUMBIS MODIFICADOS NO DNA PELA VACINA.. NÃO SERÃO SALVOS. TÃO PERDIDOS\\\\n\\\\n[USER]\\',\\n       \\'Zuverlässige und vertrauenswürdige Zahlungsseite im Moment, lassen Sie uns dieses Unternehmen für all die unglaubliche Serviceleistung schätzen, die sie hier für Investoren erbringen. Ich bin wirklich dankbar, dass ich diese Zahlungsplattform gefunden habe\\',\\n       \\'Zyklon B era pra matar piolhos. A manipulação desse gás era extremamente complicada até mesmo para os nazistas. Na realidade, não houve mortes de judeus em câmaras de gás.\\'],\\n      dtype=\\'object\\', length=188264)] are in the [columns]'",
     "output_type": "error",
     "traceback": [
      "\u001b[1;31m---------------------------------------------------------------------------\u001b[0m",
      "\u001b[1;31mKeyError\u001b[0m                                  Traceback (most recent call last)",
      "Cell \u001b[1;32mIn[6], line 2\u001b[0m\n\u001b[0;32m      1\u001b[0m \u001b[38;5;66;03m# Filtra a coluna, substitui NaN por string vazia\u001b[39;00m\n\u001b[1;32m----> 2\u001b[0m textos \u001b[38;5;241m=\u001b[39m \u001b[43mdf\u001b[49m\u001b[43m[\u001b[49m\u001b[43mdf\u001b[49m\u001b[43m[\u001b[49m\u001b[38;5;124;43m'\u001b[39;49m\u001b[38;5;124;43mtexto_original\u001b[39;49m\u001b[38;5;124;43m'\u001b[39;49m\u001b[43m]\u001b[49m\u001b[43m]\u001b[49m\u001b[38;5;241m.\u001b[39mdropna()\u001b[38;5;241m.\u001b[39mastype(\u001b[38;5;28mstr\u001b[39m)\n\u001b[0;32m      3\u001b[0m text \u001b[38;5;241m=\u001b[39m \u001b[38;5;124m'\u001b[39m\u001b[38;5;124m \u001b[39m\u001b[38;5;124m'\u001b[39m\u001b[38;5;241m.\u001b[39mjoin(textos)\n\u001b[0;32m      5\u001b[0m wordcloud \u001b[38;5;241m=\u001b[39m WordCloud(width\u001b[38;5;241m=\u001b[39m\u001b[38;5;241m800\u001b[39m, height\u001b[38;5;241m=\u001b[39m\u001b[38;5;241m400\u001b[39m, background_color\u001b[38;5;241m=\u001b[39m\u001b[38;5;124m'\u001b[39m\u001b[38;5;124mwhite\u001b[39m\u001b[38;5;124m'\u001b[39m)\u001b[38;5;241m.\u001b[39mgenerate(text)\n",
      "File \u001b[1;32mc:\\Users\\ACER\\AppData\\Local\\Programs\\Python\\Python310\\lib\\site-packages\\pandas\\core\\frame.py:4108\u001b[0m, in \u001b[0;36mDataFrame.__getitem__\u001b[1;34m(self, key)\u001b[0m\n\u001b[0;32m   4106\u001b[0m     \u001b[38;5;28;01mif\u001b[39;00m is_iterator(key):\n\u001b[0;32m   4107\u001b[0m         key \u001b[38;5;241m=\u001b[39m \u001b[38;5;28mlist\u001b[39m(key)\n\u001b[1;32m-> 4108\u001b[0m     indexer \u001b[38;5;241m=\u001b[39m \u001b[38;5;28;43mself\u001b[39;49m\u001b[38;5;241;43m.\u001b[39;49m\u001b[43mcolumns\u001b[49m\u001b[38;5;241;43m.\u001b[39;49m\u001b[43m_get_indexer_strict\u001b[49m\u001b[43m(\u001b[49m\u001b[43mkey\u001b[49m\u001b[43m,\u001b[49m\u001b[43m \u001b[49m\u001b[38;5;124;43m\"\u001b[39;49m\u001b[38;5;124;43mcolumns\u001b[39;49m\u001b[38;5;124;43m\"\u001b[39;49m\u001b[43m)\u001b[49m[\u001b[38;5;241m1\u001b[39m]\n\u001b[0;32m   4110\u001b[0m \u001b[38;5;66;03m# take() does not accept boolean indexers\u001b[39;00m\n\u001b[0;32m   4111\u001b[0m \u001b[38;5;28;01mif\u001b[39;00m \u001b[38;5;28mgetattr\u001b[39m(indexer, \u001b[38;5;124m\"\u001b[39m\u001b[38;5;124mdtype\u001b[39m\u001b[38;5;124m\"\u001b[39m, \u001b[38;5;28;01mNone\u001b[39;00m) \u001b[38;5;241m==\u001b[39m \u001b[38;5;28mbool\u001b[39m:\n",
      "File \u001b[1;32mc:\\Users\\ACER\\AppData\\Local\\Programs\\Python\\Python310\\lib\\site-packages\\pandas\\core\\indexes\\base.py:6200\u001b[0m, in \u001b[0;36mIndex._get_indexer_strict\u001b[1;34m(self, key, axis_name)\u001b[0m\n\u001b[0;32m   6197\u001b[0m \u001b[38;5;28;01melse\u001b[39;00m:\n\u001b[0;32m   6198\u001b[0m     keyarr, indexer, new_indexer \u001b[38;5;241m=\u001b[39m \u001b[38;5;28mself\u001b[39m\u001b[38;5;241m.\u001b[39m_reindex_non_unique(keyarr)\n\u001b[1;32m-> 6200\u001b[0m \u001b[38;5;28;43mself\u001b[39;49m\u001b[38;5;241;43m.\u001b[39;49m\u001b[43m_raise_if_missing\u001b[49m\u001b[43m(\u001b[49m\u001b[43mkeyarr\u001b[49m\u001b[43m,\u001b[49m\u001b[43m \u001b[49m\u001b[43mindexer\u001b[49m\u001b[43m,\u001b[49m\u001b[43m \u001b[49m\u001b[43maxis_name\u001b[49m\u001b[43m)\u001b[49m\n\u001b[0;32m   6202\u001b[0m keyarr \u001b[38;5;241m=\u001b[39m \u001b[38;5;28mself\u001b[39m\u001b[38;5;241m.\u001b[39mtake(indexer)\n\u001b[0;32m   6203\u001b[0m \u001b[38;5;28;01mif\u001b[39;00m \u001b[38;5;28misinstance\u001b[39m(key, Index):\n\u001b[0;32m   6204\u001b[0m     \u001b[38;5;66;03m# GH 42790 - Preserve name from an Index\u001b[39;00m\n",
      "File \u001b[1;32mc:\\Users\\ACER\\AppData\\Local\\Programs\\Python\\Python310\\lib\\site-packages\\pandas\\core\\indexes\\base.py:6249\u001b[0m, in \u001b[0;36mIndex._raise_if_missing\u001b[1;34m(self, key, indexer, axis_name)\u001b[0m\n\u001b[0;32m   6247\u001b[0m \u001b[38;5;28;01mif\u001b[39;00m nmissing:\n\u001b[0;32m   6248\u001b[0m     \u001b[38;5;28;01mif\u001b[39;00m nmissing \u001b[38;5;241m==\u001b[39m \u001b[38;5;28mlen\u001b[39m(indexer):\n\u001b[1;32m-> 6249\u001b[0m         \u001b[38;5;28;01mraise\u001b[39;00m \u001b[38;5;167;01mKeyError\u001b[39;00m(\u001b[38;5;124mf\u001b[39m\u001b[38;5;124m\"\u001b[39m\u001b[38;5;124mNone of [\u001b[39m\u001b[38;5;132;01m{\u001b[39;00mkey\u001b[38;5;132;01m}\u001b[39;00m\u001b[38;5;124m] are in the [\u001b[39m\u001b[38;5;132;01m{\u001b[39;00maxis_name\u001b[38;5;132;01m}\u001b[39;00m\u001b[38;5;124m]\u001b[39m\u001b[38;5;124m\"\u001b[39m)\n\u001b[0;32m   6251\u001b[0m     not_found \u001b[38;5;241m=\u001b[39m \u001b[38;5;28mlist\u001b[39m(ensure_index(key)[missing_mask\u001b[38;5;241m.\u001b[39mnonzero()[\u001b[38;5;241m0\u001b[39m]]\u001b[38;5;241m.\u001b[39munique())\n\u001b[0;32m   6252\u001b[0m     \u001b[38;5;28;01mraise\u001b[39;00m \u001b[38;5;167;01mKeyError\u001b[39;00m(\u001b[38;5;124mf\u001b[39m\u001b[38;5;124m\"\u001b[39m\u001b[38;5;132;01m{\u001b[39;00mnot_found\u001b[38;5;132;01m}\u001b[39;00m\u001b[38;5;124m not in index\u001b[39m\u001b[38;5;124m\"\u001b[39m)\n",
      "\u001b[1;31mKeyError\u001b[0m: 'None of [Index([\\'▪️ 01/11/2022 - 08:00 \\\\n\\\\nÁsia-Pacífico (fechado)\\\\n🟢 🇦🇺S&P/ASX     +1,65%   6.976,90\\\\n🟢 🇯🇵Nikkei      +0,33%  27.678,92\\\\n🟢 🇰🇷KOSPI       +1,81%   2.335,22\\\\n🟢 🇨🇳Shanghai    +2,62%   2.969,20\\\\n🟢 🇭🇰Hang Seng   +5,23%  15.455,27\\\\n\\\\nEuropa\\\\n🟢 🇩🇪DAX          +1,22%  13.415,69\\\\n🟢 🇬🇧FTSE 100     +1,59%   7.207,66\\\\n⚪️ 🇫🇷CAC 40      fechado \\\\n🟢 🇪🇺EuroStoxx50  +1,57%   3.674,25\\\\n\\\\n📌 youtube.com/AlexEconomia\\\\n🔸 t.me/alexeconomia\\',\\n       \\'*02.10.2022 TSE - Governo-SP às 18h 59m 00s*\\',\\n       \\'02.10.2022 TSE - Governo-SP às 20h 10m 35s\\',\\n       \\'02.10.2022 TSE - Presidente - às 18h 55m 31s\\',\\n       \\'*02.10.2022 TSE - Presidente às 20h 02m 45s*\\',\\n       \\'02.10.2022 TSE - Presidente às 22h 21m 36s\\',\\n       \\'02.10.2022 TSE - Prévia das 17h 44m 10s\\',\\n       \\'02.10.2022 TSE - Senado-SP às 19h 20m 53s\\',\\n       \\'*02/11 AS 09:00*\\\\n\\\\n\\\\nPRA RUA!!!!🇧🇷🇧🇷🇧🇷🇧🇷🇧🇷🇧🇷🇧🇷\\\\nPRA RUA!!!!🇧🇷🇧🇷🇧🇷🇧🇷🇧🇷🇧🇷🇧🇷\\\\nPRA RUA!!!!🇧🇷🇧🇷🇧🇷🇧🇷🇧🇷🇧🇷🇧🇷\\\\nPRA RUA!!!!🇧🇷🇧🇷🇧🇷🇧🇷🇧🇷🇧🇷🇧🇷\\\\nPRA RUA!!!!🇧🇷🇧🇷🇧🇷🇧🇷🇧🇷🇧🇷🇧🇷\\\\nPRA RUA!!!!🇧🇷🇧🇷🇧🇷🇧🇷🇧🇷🇧🇷🇧🇷\\\\nPRA RUA!!!!🇧🇷🇧🇷🇧🇷🇧🇷🇧🇷🇧🇷🇧🇷\\\\nPRA RUA!!!!🇧🇷🇧🇷🇧🇷🇧🇷🇧🇷🇧🇷🇧🇷\\\\nPRA RUA!!!!🇧🇷🇧🇷🇧🇷🇧🇷🇧🇷🇧🇷🇧🇷\\\\nPRA RUA!!!!🇧🇷🇧🇷🇧🇷🇧🇷🇧🇷🇧🇷🇧🇷\\\\nPRA RUA!!!!🇧🇷🇧🇷🇧🇷🇧🇷🇧🇷🇧🇷🇧🇷\\\\nPRA RUA!!!!🇧🇷🇧🇷🇧🇷🇧🇷🇧🇷🇧🇷🇧🇷\\\\nPRA RUA!!!!🇧🇷🇧🇷🇧🇷🇧🇷🇧🇷🇧🇷🇧🇷\\\\nPRA RUA!!!!🇧🇷🇧🇷🇧🇷🇧🇷🇧🇷🇧🇷🇧🇷\\\\nPRA RUA!!!!🇧🇷🇧🇷🇧🇷🇧🇷🇧🇷🇧🇷🇧🇷\\\\nPRA RUA!!!!🇧🇷🇧🇷🇧🇷🇧🇷🇧🇷🇧🇷🇧🇷\\\\nPRA RUA!!!!🇧🇷🇧🇷🇧🇷🇧🇷🇧🇷🇧🇷🇧🇷\\\\nPRA RUA!!!!🇧🇷🇧🇷🇧🇷🇧🇷🇧🇷🇧🇷🇧🇷\\\\nPRA RUA!!!!🇧🇷🇧🇷🇧🇷🇧🇷🇧🇷🇧🇷🇧🇷\\\\nPRA RUA!!!!🇧🇷🇧🇷🇧🇷🇧🇷🇧🇷🇧🇷🇧🇷\\\\nPRA RUA!!!!🇧🇷🇧🇷🇧🇷🇧🇷🇧🇷🇧🇷🇧🇷\\\\nPRA RUA!!!!🇧🇷🇧🇷🇧🇷🇧🇷🇧🇷🇧🇷🇧🇷\\\\nPRA RUA!!!!🇧🇷🇧🇷🇧🇷🇧🇷🇧🇷🇧🇷🇧🇷\\\\nPRA RUA!!!!🇧🇷🇧🇷🇧🇷🇧🇷🇧🇷🇧🇷🇧🇷\\\\nPRA RUA!!!!🇧🇷🇧🇷🇧🇷🇧🇷🇧🇷🇧🇷🇧🇷\\\\nPRA RUA!!!!🇧🇷🇧🇷🇧🇷🇧🇷🇧🇷🇧🇷🇧🇷\\\\nPRA RUA!!!!🇧🇷🇧🇷🇧🇷🇧🇷🇧🇷🇧🇷🇧🇷\\\\nPRA RUA!!!!🇧🇷🇧🇷🇧🇷🇧🇷🇧🇷🇧🇷🇧🇷\\\\nPRA RUA!!!!🇧🇷🇧🇷🇧🇷🇧🇷🇧🇷🇧🇷🇧🇷\\\\nPRA RUA!!!!🇧🇷🇧🇷🇧🇷🇧🇷🇧🇷🇧🇷🇧🇷\\\\nPRA RUA!!!!🇧🇷🇧🇷🇧🇷🇧🇷🇧🇷🇧🇷🇧🇷\\\\nPRA RUA!!!!🇧🇷🇧🇷🇧🇷🇧🇷🇧🇷🇧🇷🇧🇷\\\\nPRA RUA!!!!🇧🇷🇧🇷🇧🇷🇧🇷🇧🇷🇧🇷🇧🇷\\\\nPRA RUA!!!!🇧🇷🇧🇷🇧🇷🇧🇷🇧🇷🇧🇷🇧🇷\\\\nPRA RUA!!!!🇧🇷🇧🇷🇧🇷🇧🇷🇧🇷🇧🇷🇧🇷\\\\nPRA RUA!!!!🇧🇷🇧🇷🇧🇷🇧🇷🇧🇷🇧🇷🇧🇷\\\\nPRA RUA!!!!🇧🇷🇧🇷🇧🇷🇧🇷🇧🇷🇧🇷🇧🇷\\\\nPRA RUA!!!!🇧🇷🇧🇷🇧🇷🇧🇷🇧🇷🇧🇷🇧🇷\\\\nPRA RUA!!!!🇧🇷🇧🇷🇧🇷🇧🇷🇧🇷🇧🇷🇧🇷\\\\nPRA RUA!!!!🇧🇷🇧🇷🇧🇷🇧🇷🇧🇷🇧🇷🇧🇷\\\\nPRA RUA!!!!🇧🇷🇧🇷🇧🇷🇧🇷🇧🇷🇧🇷🇧🇷\\\\nPRA RUA!!!!🇧🇷🇧🇷🇧🇷🇧🇷🇧🇷🇧🇷🇧🇷\\\\nPRA RUA!!!!🇧🇷🇧🇷🇧🇷🇧🇷🇧🇷🇧🇷🇧🇷\\\\nPRA RUA!!!!🇧🇷🇧🇷🇧🇷🇧🇷🇧🇷🇧🇷🇧🇷\\\\nPRA RUA!!!!🇧🇷🇧🇷🇧🇷🇧🇷🇧🇷🇧🇷🇧🇷\\\\nPRA RUA!!!!🇧🇷🇧🇷🇧🇷🇧🇷🇧🇷🇧🇷🇧🇷\\\\nPRA RUA!!!!🇧🇷🇧🇷🇧🇷🇧🇷🇧🇷🇧🇷🇧🇷\\\\nPRA RUA!!!!🇧🇷🇧🇷🇧🇷🇧🇷🇧🇷🇧🇷🇧🇷\\\\nPRA RUA!!!!🇧🇷🇧🇷🇧🇷🇧🇷🇧🇷🇧🇷🇧🇷\\\\nPRA RUA!!!!🇧🇷🇧🇷🇧🇷🇧🇷🇧🇷🇧🇷🇧🇷\\\\nPRA RUA!!!!🇧🇷🇧🇷🇧🇷🇧🇷🇧🇷🇧🇷🇧🇷\\\\nPRA RUA!!!!🇧🇷🇧🇷🇧🇷🇧🇷🇧🇷🇧🇷🇧🇷\\\\nPRA RUA!!!!🇧🇷🇧🇷🇧🇷🇧🇷🇧🇷🇧🇷🇧🇷\\\\nPRA RUA!!!!🇧🇷🇧🇷🇧🇷🇧🇷🇧🇷🇧🇷🇧🇷\\\\nPRA RUA!!!!🇧🇷🇧🇷🇧🇷🇧🇷🇧🇷🇧🇷🇧🇷\\\\nPRA RUA!!!!🇧🇷🇧🇷🇧🇷🇧🇷🇧🇷🇧🇷🇧🇷\\\\n\\\\n\\\\nRESPOSTEM EM TODOS OS GRUPOS\\U0001fae1👊🥾💥🔥\\',\\n       \\'🗳📃 — 0,31% dos votos contados\\',\\n       ...\\n       \\'Zuckerberg chegou a ter um patrimônio de US$ 140 bilhões. Com a queda de hoje, está com \"apenas\" US$ 38 bi.\\',\\n       \\'Zuckerberg corta 11.000 empregos no proprietário do Facebook Meta.\\\\n\\\\nEle pede desculpas por \"errar\" em uma mensagem para a equipe.\\\\n\\\\nt.me/eleestavoltando\\',\\n       \\'Zuckerberg e sua equipe no Facebook (Meta) estão passando por um momento difícil, pois as ações continuam caindo.\\\\n\\\\nA Forbes informa que o patrimônio líquido de Zuckerberg caiu US$ 11 bilhões ontem e US$ 100 bilhões no total desde que as ações da Meta atingiram o pico.\\\\n\\\\nAções da Amazon também caem - queda de 20% após divulgação de resultados\\',\\n       \\'Zuckerberg\\'s net worth drops $80bn this year alone.\\\\n\\\\nhttps://is.gd/oiCEuI\\',\\n       \\'Zullen wij hier nooit in de leugen media zien, hier in Nederland zijn het idioten en geloven wat er in de nazi Media word gezegd, ik zeg neem allemaal de booster en graag in een formaat van de grote van een grote milkshake, liever vandaag nog dan morgen, en met onze regering word straks wel afgerekend en definitief.\\',\\n       \\'‘Zum Zum Zum’ em brasólia…\\\\n\\\\nA bem da paz social,\\\\n\\\\nXandão, o Degolador, a qualquer momento, deve vir a público e anunciar a desclassificação do chefe da quadrilha.\\\\n\\\\nAguardemos a sensatez.\\',\\n       \\'ZUMBI NÃO ESCOLHE LUGAR PARA MORDER. O OBJETIVO DELES É COMER O QUE VER \\\\n\\\\nhttps://www.obomdanoticia.com.br/saude-bem-estar/homem-fica-com-pnis-nbsp-necrosado-nbsp-aps-mordida-e-s-procura-ajuda-cinco-dias-depois/36565\\\\n\\\\n[USER]\\',\\n       \\'ZUMBIS MODIFICADOS NO DNA PELA VACINA.. NÃO SERÃO SALVOS. TÃO PERDIDOS\\\\n\\\\n[USER]\\',\\n       \\'Zuverlässige und vertrauenswürdige Zahlungsseite im Moment, lassen Sie uns dieses Unternehmen für all die unglaubliche Serviceleistung schätzen, die sie hier für Investoren erbringen. Ich bin wirklich dankbar, dass ich diese Zahlungsplattform gefunden habe\\',\\n       \\'Zyklon B era pra matar piolhos. A manipulação desse gás era extremamente complicada até mesmo para os nazistas. Na realidade, não houve mortes de judeus em câmaras de gás.\\'],\\n      dtype=\\'object\\', length=188264)] are in the [columns]'"
     ]
    }
   ],
   "source": [
    "# Filtra a coluna, substitui NaN por string vazia\n",
    "textos = df[df['texto_original']].dropna().astype(str)\n",
    "text = ' '.join(textos)\n",
    "\n",
    "wordcloud = WordCloud(width=800, height=400, background_color='white').generate(text)\n",
    "\n",
    "plt.figure(figsize=(10, 5))\n",
    "plt.imshow(wordcloud, interpolation='bilinear')\n",
    "plt.axis('off')\n",
    "plt.title(f'Nuvem de Palavras')\n",
    "plt.show()\n"
   ]
  },
  {
   "cell_type": "code",
   "execution_count": null,
   "id": "9fccd664",
   "metadata": {},
   "outputs": [],
   "source": []
  }
 ],
 "metadata": {
  "kernelspec": {
   "display_name": "Python 3",
   "language": "python",
   "name": "python3"
  },
  "language_info": {
   "codemirror_mode": {
    "name": "ipython",
    "version": 3
   },
   "file_extension": ".py",
   "mimetype": "text/x-python",
   "name": "python",
   "nbconvert_exporter": "python",
   "pygments_lexer": "ipython3",
   "version": "3.10.2"
  }
 },
 "nbformat": 4,
 "nbformat_minor": 5
}
