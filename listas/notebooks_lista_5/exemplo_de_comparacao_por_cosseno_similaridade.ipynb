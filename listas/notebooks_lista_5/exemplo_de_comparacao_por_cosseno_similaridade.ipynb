{
 "cells": [
  {
   "cell_type": "code",
   "execution_count": 11,
   "id": "ebfffb66",
   "metadata": {},
   "outputs": [],
   "source": [
    "import re\n",
    "import emoji\n",
    "import unidecode\n",
    "import numpy as np\n",
    "import pandas as pd\n",
    "from tqdm import tqdm\n",
    "from sklearn.metrics.pairwise import cosine_similarity\n",
    "from sentence_transformers import SentenceTransformer"
   ]
  },
  {
   "cell_type": "code",
   "execution_count": 12,
   "id": "a25dcf1f",
   "metadata": {},
   "outputs": [
    {
     "data": {
      "text/html": [
       "<div>\n",
       "<style scoped>\n",
       "    .dataframe tbody tr th:only-of-type {\n",
       "        vertical-align: middle;\n",
       "    }\n",
       "\n",
       "    .dataframe tbody tr th {\n",
       "        vertical-align: top;\n",
       "    }\n",
       "\n",
       "    .dataframe thead th {\n",
       "        text-align: right;\n",
       "    }\n",
       "</style>\n",
       "<table border=\"1\" class=\"dataframe\">\n",
       "  <thead>\n",
       "    <tr style=\"text-align: right;\">\n",
       "      <th></th>\n",
       "      <th>texto_original</th>\n",
       "      <th>frequencia</th>\n",
       "    </tr>\n",
       "  </thead>\n",
       "  <tbody>\n",
       "    <tr>\n",
       "      <th>0</th>\n",
       "      <td>Vamos juntos mudar o Brasil!</td>\n",
       "      <td>2</td>\n",
       "    </tr>\n",
       "    <tr>\n",
       "      <th>1</th>\n",
       "      <td>Vamos mudar o Brasil juntos!</td>\n",
       "      <td>1</td>\n",
       "    </tr>\n",
       "    <tr>\n",
       "      <th>2</th>\n",
       "      <td>Estamos juntos nessa luta!</td>\n",
       "      <td>3</td>\n",
       "    </tr>\n",
       "    <tr>\n",
       "      <th>3</th>\n",
       "      <td>Promoção imperdível! Só hoje!</td>\n",
       "      <td>1</td>\n",
       "    </tr>\n",
       "    <tr>\n",
       "      <th>4</th>\n",
       "      <td>Aproveite a promoção de hoje!</td>\n",
       "      <td>1</td>\n",
       "    </tr>\n",
       "  </tbody>\n",
       "</table>\n",
       "</div>"
      ],
      "text/plain": [
       "                  texto_original  frequencia\n",
       "0   Vamos juntos mudar o Brasil!           2\n",
       "1   Vamos mudar o Brasil juntos!           1\n",
       "2     Estamos juntos nessa luta!           3\n",
       "3  Promoção imperdível! Só hoje!           1\n",
       "4  Aproveite a promoção de hoje!           1"
      ]
     },
     "execution_count": 12,
     "metadata": {},
     "output_type": "execute_result"
    }
   ],
   "source": [
    "\n",
    "# Exemplo de DataFrame com mensagens similares e diferentes\n",
    "df_exemplo = pd.DataFrame({\n",
    "    'texto_original': [\n",
    "        \"Vamos juntos mudar o Brasil!\",\n",
    "        \"Vamos mudar o Brasil juntos!\",\n",
    "        \"Estamos juntos nessa luta!\",\n",
    "        \"Promoção imperdível! Só hoje!\",\n",
    "        \"Aproveite a promoção de hoje!\",\n",
    "        \"Confira nossa super promoção!\",\n",
    "        \"Bom dia a todos!\",\n",
    "        \"Tenham um ótimo dia!\",\n",
    "        \"Hoje é um dia especial.\",\n",
    "        \"Vamos juntos transformar o país!\"\n",
    "    ],\n",
    "    'frequencia': [2, 1, 3, 1, 1, 2, 3, 1, 4, 5]\n",
    "})\n",
    "\n",
    "\n",
    "df_exemplo.head()\n"
   ]
  },
  {
   "cell_type": "code",
   "execution_count": 13,
   "id": "fd50ed83",
   "metadata": {},
   "outputs": [],
   "source": [
    "df = df_exemplo.copy()"
   ]
  },
  {
   "cell_type": "code",
   "execution_count": 14,
   "id": "3254d4cc",
   "metadata": {},
   "outputs": [
    {
     "name": "stderr",
     "output_type": "stream",
     "text": [
      "Batches: 100%|██████████| 1/1 [00:01<00:00,  1.11s/it]\n"
     ]
    },
    {
     "name": "stdout",
     "output_type": "stream",
     "text": [
      "\n",
      "Comparando mensagens por similaridade...\n"
     ]
    },
    {
     "name": "stderr",
     "output_type": "stream",
     "text": [
      "100%|██████████| 10/10 [00:00<00:00, 34.44it/s]"
     ]
    },
    {
     "name": "stdout",
     "output_type": "stream",
     "text": [
      "\n",
      "Mensagens agrupadas por similaridade (≥ 0.85):\n",
      "\n",
      "Similaridade: 0.9948\n",
      "A (mantida): vamos juntos mudar o brasil\n",
      "B (removida): estamos juntos nessa luta\n",
      "\n",
      "\n",
      "### DataFrame final:\n",
      "                     texto_original  frequencia\n",
      "0      Vamos juntos mudar o Brasil!           3\n",
      "1        Estamos juntos nessa luta!           3\n",
      "2     Promoção imperdível! Só hoje!           1\n",
      "3     Aproveite a promoção de hoje!           1\n",
      "4     Confira nossa super promoção!           2\n",
      "5                  Bom dia a todos!           3\n",
      "6              Tenham um ótimo dia!           1\n",
      "7           Hoje é um dia especial.           4\n",
      "8  Vamos juntos transformar o país!           5\n"
     ]
    },
    {
     "name": "stderr",
     "output_type": "stream",
     "text": [
      "\n"
     ]
    }
   ],
   "source": [
    "\n",
    "# --- Etapa 1: Limpeza do texto ---\n",
    "def limpar_texto(texto):\n",
    "    texto = texto.lower()\n",
    "    texto = re.sub(r\"http\\S+\", \"\", texto)\n",
    "    texto = emoji.replace_emoji(texto, '')\n",
    "    texto = re.sub(r\"[^a-zA-Z0-9\\s]\", \"\", texto)\n",
    "    texto = unidecode.unidecode(texto)\n",
    "    texto = re.sub(r\"\\s+\", \" \", texto).strip()\n",
    "    return texto\n",
    "\n",
    "df['texto_limpo'] = df['texto_original'].apply(limpar_texto)\n",
    "\n",
    "# --- Etapa 2: Embeddings com BERT ---\n",
    "modelo_bert = SentenceTransformer('paraphrase-multilingual-MiniLM-L12-v2')\n",
    "df['vector'] = list(modelo_bert.encode(df['texto_limpo'].tolist(), show_progress_bar=True))\n",
    "\n",
    "# --- Etapa 3: Comparar e consolidar similaridade ---\n",
    "limiar_remocao = 0.85\n",
    "indices_para_remover = set()\n",
    "pares_similares = []\n",
    "\n",
    "# mapeamento de index -> indices duplicados para somar frequência\n",
    "agrupamento_similares = {}\n",
    "\n",
    "print(\"\\nComparando mensagens por similaridade...\")\n",
    "for i in tqdm(range(len(df))):\n",
    "    if i in indices_para_remover:\n",
    "        continue\n",
    "    vec_i = df.iloc[i]['vector']\n",
    "    for j in range(i + 1, len(df)):\n",
    "        if j in indices_para_remover:\n",
    "            continue\n",
    "        vec_j = df.iloc[j]['vector']\n",
    "        sim = cosine_similarity([vec_i], [vec_j])[0][0]\n",
    "        if sim >= limiar_remocao:\n",
    "            pares_similares.append((i, j, sim))\n",
    "            indices_para_remover.add(j)\n",
    "            if i not in agrupamento_similares:\n",
    "                agrupamento_similares[i] = []\n",
    "            agrupamento_similares[i].append(j)\n",
    "\n",
    "# --- Etapa 4: Somar frequências das mensagens similares ---\n",
    "for idx_base, indices_duplicados in agrupamento_similares.items():\n",
    "    freq_original = df.at[idx_base, 'frequencia']\n",
    "    soma = sum(df.loc[dup_idx, 'frequencia'] for dup_idx in indices_duplicados)\n",
    "    df.at[idx_base, 'frequencia'] = freq_original + soma\n",
    "\n",
    "# --- Etapa 5: Remover duplicadas ---\n",
    "df = df.drop(index=list(indices_para_remover)).reset_index(drop=True)\n",
    "\n",
    "# --- Etapa 6: Visualizar resultado final ---\n",
    "print(f\"\\nMensagens agrupadas por similaridade (≥ {limiar_remocao}):\\n\")\n",
    "for i, j, sim in sorted(pares_similares, key=lambda x: -x[2]):\n",
    "    print(f\"Similaridade: {sim:.4f}\")\n",
    "    print(f\"A (mantida): {df.iloc[i]['texto_limpo']}\")\n",
    "    print(f\"B (removida): {df.iloc[j]['texto_limpo']}\\n\")\n",
    "\n",
    "print(\"\\n### DataFrame final:\")\n",
    "print(df[['texto_original', 'frequencia']])\n"
   ]
  }
 ],
 "metadata": {
  "kernelspec": {
   "display_name": "Python 3",
   "language": "python",
   "name": "python3"
  },
  "language_info": {
   "codemirror_mode": {
    "name": "ipython",
    "version": 3
   },
   "file_extension": ".py",
   "mimetype": "text/x-python",
   "name": "python",
   "nbconvert_exporter": "python",
   "pygments_lexer": "ipython3",
   "version": "3.10.2"
  }
 },
 "nbformat": 4,
 "nbformat_minor": 5
}
