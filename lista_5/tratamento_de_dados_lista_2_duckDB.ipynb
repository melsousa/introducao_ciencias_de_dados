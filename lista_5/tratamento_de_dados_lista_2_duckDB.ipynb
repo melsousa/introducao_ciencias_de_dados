{
 "cells": [
  {
   "cell_type": "code",
   "execution_count": 1,
   "id": "e7a2a5c4",
   "metadata": {},
   "outputs": [],
   "source": [
    "import pandas as pd\n",
    "import pyarrow as pa\n",
    "import pyarrow.parquet as pq\n",
    "import re\n"
   ]
  },
  {
   "cell_type": "code",
   "execution_count": 2,
   "id": "ff1892a8",
   "metadata": {},
   "outputs": [
    {
     "data": {
      "text/html": [
       "<div>\n",
       "<style scoped>\n",
       "    .dataframe tbody tr th:only-of-type {\n",
       "        vertical-align: middle;\n",
       "    }\n",
       "\n",
       "    .dataframe tbody tr th {\n",
       "        vertical-align: top;\n",
       "    }\n",
       "\n",
       "    .dataframe thead th {\n",
       "        text-align: right;\n",
       "    }\n",
       "</style>\n",
       "<table border=\"1\" class=\"dataframe\">\n",
       "  <thead>\n",
       "    <tr style=\"text-align: right;\">\n",
       "      <th></th>\n",
       "      <th>date_message</th>\n",
       "      <th>id_member_anonymous</th>\n",
       "      <th>id_group_anonymous</th>\n",
       "      <th>media</th>\n",
       "      <th>media_type</th>\n",
       "      <th>media_url</th>\n",
       "      <th>has_media</th>\n",
       "      <th>has_media_url</th>\n",
       "      <th>trava_zap</th>\n",
       "      <th>text_content_anonymous</th>\n",
       "      <th>dataset_info_id</th>\n",
       "      <th>date_system</th>\n",
       "      <th>score_sentiment</th>\n",
       "      <th>score_misinformation</th>\n",
       "      <th>id_message</th>\n",
       "      <th>message_type</th>\n",
       "      <th>messenger</th>\n",
       "      <th>media_name</th>\n",
       "      <th>media_md5</th>\n",
       "    </tr>\n",
       "  </thead>\n",
       "  <tbody>\n",
       "    <tr>\n",
       "      <th>0</th>\n",
       "      <td>2022-10-05 06:25:04</td>\n",
       "      <td>1078cc958f0febe28f4d03207660715f</td>\n",
       "      <td>12283e08a2eb5789201e105b34489ee7</td>\n",
       "      <td>NaN</td>\n",
       "      <td>NaN</td>\n",
       "      <td>NaN</td>\n",
       "      <td>False</td>\n",
       "      <td>False</td>\n",
       "      <td>False</td>\n",
       "      <td>Então é Fato Renato o áudio que eu ouvi no wha...</td>\n",
       "      <td>5</td>\n",
       "      <td>2022-10-05 06:25:28.863641</td>\n",
       "      <td>0.0000</td>\n",
       "      <td>NaN</td>\n",
       "      <td>16385</td>\n",
       "      <td>Texto</td>\n",
       "      <td>telegram</td>\n",
       "      <td>NaN</td>\n",
       "      <td>NaN</td>\n",
       "    </tr>\n",
       "    <tr>\n",
       "      <th>1</th>\n",
       "      <td>2022-10-05 06:25:08</td>\n",
       "      <td>NaN</td>\n",
       "      <td>12283e08a2eb5789201e105b34489ee7</td>\n",
       "      <td>NaN</td>\n",
       "      <td>NaN</td>\n",
       "      <td>NaN</td>\n",
       "      <td>False</td>\n",
       "      <td>False</td>\n",
       "      <td>False</td>\n",
       "      <td>Saiu no YouTube do presidente a 8 horas atrás,...</td>\n",
       "      <td>5</td>\n",
       "      <td>2022-10-05 06:25:28.926311</td>\n",
       "      <td>0.0644</td>\n",
       "      <td>NaN</td>\n",
       "      <td>16386</td>\n",
       "      <td>Texto</td>\n",
       "      <td>telegram</td>\n",
       "      <td>NaN</td>\n",
       "      <td>NaN</td>\n",
       "    </tr>\n",
       "    <tr>\n",
       "      <th>2</th>\n",
       "      <td>2022-10-05 06:26:28</td>\n",
       "      <td>92a2d8fd7144074f659d1d29dc3751da</td>\n",
       "      <td>9f2d7394334eb224c061c9740b5748fc</td>\n",
       "      <td>NaN</td>\n",
       "      <td>NaN</td>\n",
       "      <td>NaN</td>\n",
       "      <td>False</td>\n",
       "      <td>False</td>\n",
       "      <td>False</td>\n",
       "      <td>É isso, nossa parte já foi quase toda feita. N...</td>\n",
       "      <td>5</td>\n",
       "      <td>2022-10-05 06:26:29.361949</td>\n",
       "      <td>-0.3551</td>\n",
       "      <td>0.157242</td>\n",
       "      <td>16366</td>\n",
       "      <td>Texto</td>\n",
       "      <td>telegram</td>\n",
       "      <td>NaN</td>\n",
       "      <td>NaN</td>\n",
       "    </tr>\n",
       "    <tr>\n",
       "      <th>3</th>\n",
       "      <td>2022-10-05 06:27:28</td>\n",
       "      <td>d60aa38f62b4977426b70944af4aff72</td>\n",
       "      <td>c8f2de56550ed0bf85249608b7ead93d</td>\n",
       "      <td>94dca4cda503100ebfda7ce2bcc060eb.jpg</td>\n",
       "      <td>image/jpg</td>\n",
       "      <td>NaN</td>\n",
       "      <td>True</td>\n",
       "      <td>False</td>\n",
       "      <td>False</td>\n",
       "      <td>GENTE ACHEI ELES EM UMA SEITA MAÇONÁRICA</td>\n",
       "      <td>5</td>\n",
       "      <td>2022-10-05 06:27:29.935624</td>\n",
       "      <td>0.0000</td>\n",
       "      <td>NaN</td>\n",
       "      <td>19281</td>\n",
       "      <td>Imagem</td>\n",
       "      <td>telegram</td>\n",
       "      <td>NaN</td>\n",
       "      <td>94dca4cda503100ebfda7ce2bcc060eb</td>\n",
       "    </tr>\n",
       "    <tr>\n",
       "      <th>4</th>\n",
       "      <td>2022-10-05 06:27:44</td>\n",
       "      <td>cd6979b0b5265f08468fa1689b6300ce</td>\n",
       "      <td>e56ec342fc599ebb4ed89655eb6f03aa</td>\n",
       "      <td>5ad5c8bbe9da93a37fecf3e5aa5b0637.jpg</td>\n",
       "      <td>image/jpg</td>\n",
       "      <td>NaN</td>\n",
       "      <td>True</td>\n",
       "      <td>False</td>\n",
       "      <td>False</td>\n",
       "      <td>NaN</td>\n",
       "      <td>5</td>\n",
       "      <td>2022-10-05 06:28:29.316325</td>\n",
       "      <td>NaN</td>\n",
       "      <td>NaN</td>\n",
       "      <td>507185</td>\n",
       "      <td>Imagem</td>\n",
       "      <td>telegram</td>\n",
       "      <td>NaN</td>\n",
       "      <td>5ad5c8bbe9da93a37fecf3e5aa5b0637</td>\n",
       "    </tr>\n",
       "  </tbody>\n",
       "</table>\n",
       "</div>"
      ],
      "text/plain": [
       "          date_message               id_member_anonymous  \\\n",
       "0  2022-10-05 06:25:04  1078cc958f0febe28f4d03207660715f   \n",
       "1  2022-10-05 06:25:08                               NaN   \n",
       "2  2022-10-05 06:26:28  92a2d8fd7144074f659d1d29dc3751da   \n",
       "3  2022-10-05 06:27:28  d60aa38f62b4977426b70944af4aff72   \n",
       "4  2022-10-05 06:27:44  cd6979b0b5265f08468fa1689b6300ce   \n",
       "\n",
       "                 id_group_anonymous                                 media  \\\n",
       "0  12283e08a2eb5789201e105b34489ee7                                   NaN   \n",
       "1  12283e08a2eb5789201e105b34489ee7                                   NaN   \n",
       "2  9f2d7394334eb224c061c9740b5748fc                                   NaN   \n",
       "3  c8f2de56550ed0bf85249608b7ead93d  94dca4cda503100ebfda7ce2bcc060eb.jpg   \n",
       "4  e56ec342fc599ebb4ed89655eb6f03aa  5ad5c8bbe9da93a37fecf3e5aa5b0637.jpg   \n",
       "\n",
       "  media_type media_url  has_media  has_media_url  trava_zap  \\\n",
       "0        NaN       NaN      False          False      False   \n",
       "1        NaN       NaN      False          False      False   \n",
       "2        NaN       NaN      False          False      False   \n",
       "3  image/jpg       NaN       True          False      False   \n",
       "4  image/jpg       NaN       True          False      False   \n",
       "\n",
       "                              text_content_anonymous  dataset_info_id  \\\n",
       "0  Então é Fato Renato o áudio que eu ouvi no wha...                5   \n",
       "1  Saiu no YouTube do presidente a 8 horas atrás,...                5   \n",
       "2  É isso, nossa parte já foi quase toda feita. N...                5   \n",
       "3           GENTE ACHEI ELES EM UMA SEITA MAÇONÁRICA                5   \n",
       "4                                                NaN                5   \n",
       "\n",
       "                  date_system  score_sentiment  score_misinformation  \\\n",
       "0  2022-10-05 06:25:28.863641           0.0000                   NaN   \n",
       "1  2022-10-05 06:25:28.926311           0.0644                   NaN   \n",
       "2  2022-10-05 06:26:29.361949          -0.3551              0.157242   \n",
       "3  2022-10-05 06:27:29.935624           0.0000                   NaN   \n",
       "4  2022-10-05 06:28:29.316325              NaN                   NaN   \n",
       "\n",
       "   id_message message_type messenger media_name  \\\n",
       "0       16385        Texto  telegram        NaN   \n",
       "1       16386        Texto  telegram        NaN   \n",
       "2       16366        Texto  telegram        NaN   \n",
       "3       19281       Imagem  telegram        NaN   \n",
       "4      507185       Imagem  telegram        NaN   \n",
       "\n",
       "                          media_md5  \n",
       "0                               NaN  \n",
       "1                               NaN  \n",
       "2                               NaN  \n",
       "3  94dca4cda503100ebfda7ce2bcc060eb  \n",
       "4  5ad5c8bbe9da93a37fecf3e5aa5b0637  "
      ]
     },
     "execution_count": 2,
     "metadata": {},
     "output_type": "execute_result"
    }
   ],
   "source": [
    "df = pd.read_csv('../../datasets/telegram/fakeTelegram.BR_2022.csv')\n",
    "df.head()"
   ]
  },
  {
   "cell_type": "code",
   "execution_count": 3,
   "id": "529c832e",
   "metadata": {},
   "outputs": [
    {
     "data": {
      "text/plain": [
       "(557586, 19)"
      ]
     },
     "execution_count": 3,
     "metadata": {},
     "output_type": "execute_result"
    }
   ],
   "source": [
    "df.shape"
   ]
  },
  {
   "cell_type": "code",
   "execution_count": 4,
   "id": "a51b4451",
   "metadata": {},
   "outputs": [
    {
     "data": {
      "text/plain": [
       "(557570, 19)"
      ]
     },
     "execution_count": 4,
     "metadata": {},
     "output_type": "execute_result"
    }
   ],
   "source": [
    "\n",
    "df = df[df['trava_zap'] == False]\n",
    "df.shape"
   ]
  },
  {
   "cell_type": "code",
   "execution_count": 5,
   "id": "52560a2e",
   "metadata": {},
   "outputs": [
    {
     "data": {
      "text/plain": [
       "(557515, 20)"
      ]
     },
     "execution_count": 5,
     "metadata": {},
     "output_type": "execute_result"
    }
   ],
   "source": [
    "\n",
    "# eliminando trava_zap\n",
    "df['text_content_anonymous'] = df['text_content_anonymous'].astype(\"string\")\n",
    "df['caracteres_especial_count'] = df['text_content_anonymous'].apply(\n",
    "    lambda x: len(re.findall(r'[^A-Za-z0-9]', str(x))) if pd.notnull(x) else 0\n",
    ")\n",
    "\n",
    "num_caracteres_elevado = df['caracteres_especial_count'] >= 1900\n",
    "df_final = df[~num_caracteres_elevado]\n",
    "df_final.shape"
   ]
  },
  {
   "cell_type": "code",
   "execution_count": 6,
   "id": "008586e9",
   "metadata": {},
   "outputs": [],
   "source": [
    "table = pa.Table.from_pandas(df_final)"
   ]
  },
  {
   "cell_type": "code",
   "execution_count": 7,
   "id": "1fa1eaa7",
   "metadata": {},
   "outputs": [],
   "source": [
    "parquet_file_path = \"../datasets/fakeTelegram_SemTravaZap_BR_2022.parquet\"\n",
    "pq.write_table(table, parquet_file_path)\n"
   ]
  },
  {
   "cell_type": "code",
   "execution_count": 2,
   "id": "437e3a17",
   "metadata": {},
   "outputs": [
    {
     "data": {
      "text/plain": [
       "┌─────────────────────┬──────────────────────┬───┬──────────────────────┬──────────────────────┬───────────────────┐\n",
       "│    date_message     │ id_member_anonymous  │ … │      media_md5       │ caracteres_especia…  │ __index_level_0__ │\n",
       "│       varchar       │       varchar        │   │       varchar        │        int64         │       int64       │\n",
       "├─────────────────────┼──────────────────────┼───┼──────────────────────┼──────────────────────┼───────────────────┤\n",
       "│ 2022-10-05 06:25:04 │ 1078cc958f0febe28f…  │ … │ NULL                 │                   24 │                 0 │\n",
       "│ 2022-10-05 06:25:08 │ NULL                 │ … │ NULL                 │                   29 │                 1 │\n",
       "│ 2022-10-05 06:26:28 │ 92a2d8fd7144074f65…  │ … │ NULL                 │                   77 │                 2 │\n",
       "│ 2022-10-05 06:27:28 │ d60aa38f62b4977426…  │ … │ 94dca4cda503100ebf…  │                    8 │                 3 │\n",
       "│ 2022-10-05 06:27:44 │ cd6979b0b5265f0846…  │ … │ 5ad5c8bbe9da93a37f…  │                    0 │                 4 │\n",
       "│ 2022-10-05 06:28:30 │ NULL                 │ … │ NULL                 │                   37 │                 5 │\n",
       "│ 2022-10-05 06:29:09 │ 3b685d44ff197b98d7…  │ … │ NULL                 │                  884 │                 6 │\n",
       "│ 2022-10-05 06:43:51 │ a7db4ff6a6d35e57be…  │ … │ 4fe93a3772445f6417…  │                    0 │                 7 │\n",
       "│ 2022-10-05 07:09:39 │ d2c33afd13a3165be0…  │ … │ 30f29cca618753961c…  │                    0 │                 8 │\n",
       "│ 2022-10-05 06:29:48 │ a7e85072244cae1544…  │ … │ NULL                 │                  218 │                 9 │\n",
       "│          ·          │          ·           │ · │  ·                   │                    · │                 · │\n",
       "│          ·          │          ·           │ · │  ·                   │                    · │                 · │\n",
       "│          ·          │          ·           │ · │  ·                   │                    · │                 · │\n",
       "│ 2022-10-05 22:11:42 │ abe534d581ec6d5522…  │ … │ NULL                 │                   16 │              9990 │\n",
       "│ 2022-10-05 22:11:02 │ NULL                 │ … │ 17e5b86e32afd56877…  │                    3 │              9991 │\n",
       "│ 2022-10-05 22:11:52 │ abe534d581ec6d5522…  │ … │ NULL                 │                   16 │              9992 │\n",
       "│ 2022-10-05 22:11:53 │ a5e1efc5932ec3c275…  │ … │ NULL                 │                   23 │              9993 │\n",
       "│ 2022-10-05 22:11:54 │ e8fd8fee8c39342d37…  │ … │ NULL                 │                   17 │              9994 │\n",
       "│ 2022-10-05 22:09:45 │ NULL                 │ … │ NULL                 │                   28 │              9995 │\n",
       "│ 2022-10-05 22:11:57 │ 39ee10516124280a22…  │ … │ 734694d98d7d5bef2b…  │                    0 │              9996 │\n",
       "│ 2022-10-05 22:12:04 │ NULL                 │ … │ df0da886b75bbca225…  │                    0 │              9997 │\n",
       "│ 2022-10-05 22:32:10 │ NULL                 │ … │ NULL                 │                   33 │              9998 │\n",
       "│ 2022-10-05 22:12:07 │ d0a7fd17e6104c8c25…  │ … │ 0afcf6cba0a9276311…  │                   24 │              9999 │\n",
       "├─────────────────────┴──────────────────────┴───┴──────────────────────┴──────────────────────┴───────────────────┤\n",
       "│ ? rows (>9999 rows, 20 shown)                                                               21 columns (5 shown) │\n",
       "└──────────────────────────────────────────────────────────────────────────────────────────────────────────────────┘"
      ]
     },
     "execution_count": 2,
     "metadata": {},
     "output_type": "execute_result"
    }
   ],
   "source": [
    "import duckdb\n",
    "\n",
    "duckdb.sql(\"SELECT * FROM '../datasets/fakeTelegram_SemTravaZap_BR_2022.parquet'\") "
   ]
  },
  {
   "cell_type": "code",
   "execution_count": 12,
   "id": "0b2763ef",
   "metadata": {},
   "outputs": [
    {
     "data": {
      "text/plain": [
       "┌──────────────┐\n",
       "│ count_star() │\n",
       "│    int64     │\n",
       "├──────────────┤\n",
       "│       557515 │\n",
       "└──────────────┘"
      ]
     },
     "execution_count": 12,
     "metadata": {},
     "output_type": "execute_result"
    }
   ],
   "source": [
    "# quantidade de registros\n",
    "duckdb.sql(\"SELECT count(*) FROM '../datasets/fakeTelegram_SemTravaZap_BR_2022.parquet' \")"
   ]
  },
  {
   "cell_type": "code",
   "execution_count": 21,
   "id": "a43f1837",
   "metadata": {},
   "outputs": [
    {
     "name": "stdout",
     "output_type": "stream",
     "text": [
      "['date_message', 'id_member_anonymous', 'id_group_anonymous', 'media', 'media_type', 'media_url', 'has_media', 'has_media_url', 'trava_zap', 'text_content_anonymous', 'dataset_info_id', 'date_system', 'score_sentiment', 'score_misinformation', 'id_message', 'message_type', 'messenger', 'media_name', 'media_md5', 'caracteres_especial_count', '__index_level_0__']\n"
     ]
    }
   ],
   "source": [
    "result = duckdb.sql(\"SELECT * FROM '../datasets/fakeTelegram_SemTravaZap_BR_2022.parquet'\") \n",
    "print(result.columns)"
   ]
  },
  {
   "cell_type": "code",
   "execution_count": 42,
   "id": "b7d2b62b",
   "metadata": {},
   "outputs": [
    {
     "data": {
      "text/plain": [
       "┌────────────────┐\n",
       "│ count_messages │\n",
       "│     int64      │\n",
       "├────────────────┤\n",
       "│         444146 │\n",
       "└────────────────┘"
      ]
     },
     "execution_count": 42,
     "metadata": {},
     "output_type": "execute_result"
    }
   ],
   "source": [
    "# quantidade de mensagens não vazias\n",
    "duckdb.sql(\"SELECT COUNT(text_content_anonymous) AS count_messages FROM '../datasets/fakeTelegram_SemTravaZap_BR_2022.parquet' \")"
   ]
  },
  {
   "cell_type": "code",
   "execution_count": 41,
   "id": "6a41ace2",
   "metadata": {},
   "outputs": [
    {
     "data": {
      "text/plain": [
       "┌─────────────────┐\n",
       "│ count_id_member │\n",
       "│      int64      │\n",
       "├─────────────────┤\n",
       "│           14808 │\n",
       "└─────────────────┘"
      ]
     },
     "execution_count": 41,
     "metadata": {},
     "output_type": "execute_result"
    }
   ],
   "source": [
    "# quantidade de usuários distintos\n",
    "duckdb.sql(\"SELECT COUNT(DISTINCT(id_member_anonymous)) AS count_id_member\" \\\n",
    "\" FROM '../datasets/fakeTelegram_SemTravaZap_BR_2022.parquet' \")"
   ]
  },
  {
   "cell_type": "code",
   "execution_count": null,
   "id": "35e88c55",
   "metadata": {},
   "outputs": [
    {
     "data": {
      "text/plain": [
       "┌────────────────┐\n",
       "│ count_id_group │\n",
       "│     int64      │\n",
       "├────────────────┤\n",
       "│            178 │\n",
       "└────────────────┘"
      ]
     },
     "execution_count": 40,
     "metadata": {},
     "output_type": "execute_result"
    }
   ],
   "source": [
    "# quantidade de grupos distintos\n",
    "duckdb.sql(\"SELECT COUNT(DISTINCT(id_group_anonymous)) AS count_id_group \" \\\n",
    "\" FROM '../datasets/fakeTelegram_SemTravaZap_BR_2022.parquet' \")"
   ]
  },
  {
   "cell_type": "code",
   "execution_count": null,
   "id": "eed71a11",
   "metadata": {},
   "outputs": [
    {
     "data": {
      "text/plain": [
       "┌─────────────────┐\n",
       "│ count_only_text │\n",
       "│      int64      │\n",
       "├─────────────────┤\n",
       "│           10091 │\n",
       "└─────────────────┘"
      ]
     },
     "execution_count": 39,
     "metadata": {},
     "output_type": "execute_result"
    }
   ],
   "source": [
    "duckdb.sql(\"SELECT COUNT(*) AS count_only_text FROM '../datasets/fakeTelegram_SemTravaZap_BR_2022.parquet'\" \\\n",
    "\" WHERE REGEXP_MATCHES(text_content_anonymous, '^[a-zA-Z ]*$')\")"
   ]
  },
  {
   "cell_type": "code",
   "execution_count": 29,
   "id": "c1a41b85",
   "metadata": {},
   "outputs": [
    {
     "data": {
      "text/plain": [
       "┌────────────────────────┐\n",
       "│       has_media        │\n",
       "│        boolean         │\n",
       "├────────────────────────┤\n",
       "│ false                  │\n",
       "│ false                  │\n",
       "│ false                  │\n",
       "│ true                   │\n",
       "│ true                   │\n",
       "│ false                  │\n",
       "│ false                  │\n",
       "│ true                   │\n",
       "│ true                   │\n",
       "│ false                  │\n",
       "│   ·                    │\n",
       "│   ·                    │\n",
       "│   ·                    │\n",
       "│ false                  │\n",
       "│ true                   │\n",
       "│ false                  │\n",
       "│ false                  │\n",
       "│ false                  │\n",
       "│ false                  │\n",
       "│ true                   │\n",
       "│ true                   │\n",
       "│ false                  │\n",
       "│ true                   │\n",
       "├────────────────────────┤\n",
       "│         ? rows         │\n",
       "│ (>9999 rows, 20 shown) │\n",
       "└────────────────────────┘"
      ]
     },
     "execution_count": 29,
     "metadata": {},
     "output_type": "execute_result"
    }
   ],
   "source": [
    "duckdb.sql(\"SELECT has_media FROM '../datasets/fakeTelegram_SemTravaZap_BR_2022.parquet'\")"
   ]
  },
  {
   "cell_type": "code",
   "execution_count": 38,
   "id": "f0580d3f",
   "metadata": {},
   "outputs": [
    {
     "data": {
      "text/plain": [
       "┌──────────────────┐\n",
       "│ count_true_media │\n",
       "│      int64       │\n",
       "├──────────────────┤\n",
       "│           332604 │\n",
       "└──────────────────┘"
      ]
     },
     "execution_count": 38,
     "metadata": {},
     "output_type": "execute_result"
    }
   ],
   "source": [
    "# quantidade de mensagens que contém midia\n",
    "duckdb.sql(\"SELECT COUNT(*) AS count_true_media FROM '../datasets/fakeTelegram_SemTravaZap_BR_2022.parquet' \" \\\n",
    "\"WHERE has_media = true\")"
   ]
  },
  {
   "cell_type": "code",
   "execution_count": 34,
   "id": "e41b5dc7",
   "metadata": {},
   "outputs": [
    {
     "data": {
      "text/plain": [
       "┌────────────────────────┐\n",
       "│       media_type       │\n",
       "│        varchar         │\n",
       "├────────────────────────┤\n",
       "│ NULL                   │\n",
       "│ NULL                   │\n",
       "│ NULL                   │\n",
       "│ image/jpg              │\n",
       "│ image/jpg              │\n",
       "│ NULL                   │\n",
       "│ NULL                   │\n",
       "│ image/jpg              │\n",
       "│ image/jpg              │\n",
       "│ NULL                   │\n",
       "│  ·                     │\n",
       "│  ·                     │\n",
       "│  ·                     │\n",
       "│ NULL                   │\n",
       "│ video/mp4              │\n",
       "│ NULL                   │\n",
       "│ NULL                   │\n",
       "│ NULL                   │\n",
       "│ NULL                   │\n",
       "│ image/jpg              │\n",
       "│ image/jpg              │\n",
       "│ NULL                   │\n",
       "│ url                    │\n",
       "├────────────────────────┤\n",
       "│         ? rows         │\n",
       "│ (>9999 rows, 20 shown) │\n",
       "└────────────────────────┘"
      ]
     },
     "execution_count": 34,
     "metadata": {},
     "output_type": "execute_result"
    }
   ],
   "source": [
    "\n",
    "duckdb.sql(\"SELECT media_type FROM '../datasets/fakeTelegram_SemTravaZap_BR_2022.parquet' \")"
   ]
  },
  {
   "cell_type": "code",
   "execution_count": null,
   "id": "8345ca35",
   "metadata": {},
   "outputs": [
    {
     "name": "stdout",
     "output_type": "stream",
     "text": [
      "   count_url  count_video  count_jpg\n",
      "0   100856.0      18497.0   200440.0\n"
     ]
    }
   ],
   "source": [
    "query = \"\"\"\n",
    "SELECT\n",
    "    SUM(CASE WHEN media_type = 'url' THEN 1 ELSE 0 END) AS count_url,\n",
    "    SUM(CASE WHEN media_type = 'video/mp4' THEN 1 ELSE 0 END) AS count_video,\n",
    "    SUM(CASE WHEN media_type = 'image/jpg' THEN 1 ELSE 0 END) AS count_jpg\n",
    "FROM '../datasets/fakeTelegram_SemTravaZap_BR_2022.parquet'\n",
    "\"\"\"\n",
    "\n",
    "result = duckdb.sql(query).df()\n",
    "print(result)\n"
   ]
  },
  {
   "cell_type": "code",
   "execution_count": 37,
   "id": "50fa8b28",
   "metadata": {},
   "outputs": [
    {
     "data": {
      "text/plain": [
       "┌───────────┐\n",
       "│ count_jpg │\n",
       "│   int64   │\n",
       "├───────────┤\n",
       "│    200440 │\n",
       "└───────────┘"
      ]
     },
     "execution_count": 37,
     "metadata": {},
     "output_type": "execute_result"
    }
   ],
   "source": [
    "duckdb.sql(\"SELECT COUNT(*) AS count_jpg FROM '../datasets/fakeTelegram_SemTravaZap_BR_2022.parquet' \" \\\n",
    "\"WHERE media_type = 'image/jpg' \")"
   ]
  },
  {
   "cell_type": "code",
   "execution_count": 43,
   "id": "8b33a748",
   "metadata": {},
   "outputs": [
    {
     "data": {
      "text/plain": [
       "┌─────────────┐\n",
       "│ count_video │\n",
       "│    int64    │\n",
       "├─────────────┤\n",
       "│       18497 │\n",
       "└─────────────┘"
      ]
     },
     "execution_count": 43,
     "metadata": {},
     "output_type": "execute_result"
    }
   ],
   "source": [
    "duckdb.sql(\"SELECT COUNT(*) AS count_video FROM '../datasets/fakeTelegram_SemTravaZap_BR_2022.parquet' \" \\\n",
    "\"WHERE media_type = 'video/mp4' \")"
   ]
  },
  {
   "cell_type": "code",
   "execution_count": 44,
   "id": "cefe0ebf",
   "metadata": {},
   "outputs": [
    {
     "data": {
      "text/plain": [
       "┌───────────┐\n",
       "│ count_url │\n",
       "│   int64   │\n",
       "├───────────┤\n",
       "│    100856 │\n",
       "└───────────┘"
      ]
     },
     "execution_count": 44,
     "metadata": {},
     "output_type": "execute_result"
    }
   ],
   "source": [
    "duckdb.sql(\"SELECT COUNT(*) AS count_url FROM '../datasets/fakeTelegram_SemTravaZap_BR_2022.parquet' \" \\\n",
    "\"WHERE media_type = 'url' \")"
   ]
  },
  {
   "cell_type": "code",
   "execution_count": 47,
   "id": "d178953f",
   "metadata": {},
   "outputs": [
    {
     "data": {
      "text/plain": [
       "┌────────────────────────────────────────────────────────────────────────────────────┬───────────┐\n",
       "│                                     media_url                                      │ count_url │\n",
       "│                                      varchar                                       │   int64   │\n",
       "├────────────────────────────────────────────────────────────────────────────────────┼───────────┤\n",
       "│ t.me/alexeconomia                                                                  │      4159 │\n",
       "│ https://youtube.com/c/especulandoosfatosoficial                                    │      1607 │\n",
       "│ t.me/fimtaproximo                                                                  │      1581 │\n",
       "│ t.me/+EWlGMatRZGg3OTlh                                                             │      1419 │\n",
       "│ https://youtu.be/qbTzhB0akt8                                                       │      1160 │\n",
       "│ https://youtu.be/zDuOoyhyN-4                                                       │      1022 │\n",
       "│ t.me/+ewZIPdZ42vEyNzJh                                                             │       772 │\n",
       "│ https://t.me/canalselvabrasiloficial                                               │       709 │\n",
       "│ https://youtu.be/4DHk9KZ01HM                                                       │       660 │\n",
       "│ T.me/Arthur_Senna_Trader2                                                          │       640 │\n",
       "│             ·                                                                      │        ·  │\n",
       "│             ·                                                                      │        ·  │\n",
       "│             ·                                                                      │        ·  │\n",
       "│ https://youtu.be/wGpTY8GH568                                                       │       332 │\n",
       "│ https://youtu.be/u-ZGL90PfeI                                                       │       282 │\n",
       "│ t.me/+L987ddlsBJVkYzAx                                                             │       273 │\n",
       "│ t.me/direitologicoparatodos                                                        │       262 │\n",
       "│ https://scriptsamp.forumeiros.com/t16154-enquetecandidatos-a-presidencia-do-brasil │       260 │\n",
       "│ https://lulaflix.com.br/                                                           │       255 │\n",
       "│ https://youtu.be/aJ7uw_d-dUI                                                       │       250 │\n",
       "│ https://t.me/misteriosdomundobruno                                                 │       249 │\n",
       "│ http://ligapatriota.blogspot.com/                                                  │       244 │\n",
       "│ https://youtu.be/a4IjtAhIVbI                                                       │       222 │\n",
       "├────────────────────────────────────────────────────────────────────────────────────┴───────────┤\n",
       "│ 30 rows (20 shown)                                                                   2 columns │\n",
       "└────────────────────────────────────────────────────────────────────────────────────────────────┘"
      ]
     },
     "execution_count": 47,
     "metadata": {},
     "output_type": "execute_result"
    }
   ],
   "source": [
    "duckdb.sql(\"SELECT media_url, COUNT(media_url) AS count_url FROM '../datasets/fakeTelegram_SemTravaZap_BR_2022.parquet'\" \\\n",
    "\"GROUP BY media_url \" \\\n",
    "\"ORDER BY count_url DESC LIMIT 30 \")"
   ]
  },
  {
   "cell_type": "code",
   "execution_count": 30,
   "id": "ca8e88a1",
   "metadata": {},
   "outputs": [
    {
     "data": {
      "text/plain": [
       "┌─────────────────────────────┬───────────────┐\n",
       "│           dominio           │ count_dominio │\n",
       "│           varchar           │     int64     │\n",
       "├─────────────────────────────┼───────────────┤\n",
       "│ youtu.be                    │         52842 │\n",
       "│ t.me                        │         20323 │\n",
       "│ youtube.com                 │         14768 │\n",
       "│ terrabrasilnoticias.com     │          8284 │\n",
       "│ instagram.com               │          6626 │\n",
       "│ jornaldacidadeonline.com.br │          4829 │\n",
       "│ twitter.com                 │          4441 │\n",
       "│ gazetabrasil.com.br         │          1781 │\n",
       "│ pleno.news                  │          1602 │\n",
       "│ facebook.com                │          1368 │\n",
       "│      ·                      │            ·  │\n",
       "│      ·                      │            ·  │\n",
       "│      ·                      │            ·  │\n",
       "│ m.youtube.com               │           694 │\n",
       "│ noticias.uol.com.br         │           629 │\n",
       "│ tribunanacional.com.br      │           609 │\n",
       "│ fb.watch                    │           573 │\n",
       "│ apostagem.com.br            │           568 │\n",
       "│ veja.abril.com.br           │           567 │\n",
       "│ rumble.com                  │           531 │\n",
       "│ redemption3301.blogspot.com │           494 │\n",
       "│ g1.globo.com                │           444 │\n",
       "│ chat.whatsapp.com           │           441 │\n",
       "├─────────────────────────────┴───────────────┤\n",
       "│ 30 rows (20 shown)                2 columns │\n",
       "└─────────────────────────────────────────────┘"
      ]
     },
     "execution_count": 30,
     "metadata": {},
     "output_type": "execute_result"
    }
   ],
   "source": [
    "duckdb.sql(\"SELECT REGEXP_EXTRACT(media_url, '^(?:https?://)?(?:www\\.)?([^/]+)', 1) AS dominio, COUNT(*) AS count_dominio FROM '../datasets/fakeTelegram_SemTravaZap_BR_2022.parquet'\" \\\n",
    "\"WHERE media_url IS NOT NULL\" \\\n",
    "\" GROUP BY dominio ORDER BY COUNT(*) DESC LIMIT 30\")"
   ]
  },
  {
   "cell_type": "code",
   "execution_count": null,
   "id": "e03cafdd",
   "metadata": {},
   "outputs": [
    {
     "data": {
      "text/plain": [
       "┌──────────────────────────────────┬──────────────┐\n",
       "│       id_member_anonymous        │ count_member │\n",
       "│             varchar              │    int64     │\n",
       "├──────────────────────────────────┼──────────────┤\n",
       "│ abe534d581ec6d552243d6955d3c3cd8 │        12289 │\n",
       "│ 1665e22b0f564cd46d343f7677014821 │         5452 │\n",
       "│ 1ac091b8ed5c4e42383f1b4ff4cc9b2d │         5060 │\n",
       "│ c743967449a387ad2c1c7e03b2c45b36 │         3019 │\n",
       "│ e7998863ac2a40086657fab4a6b463c9 │         1928 │\n",
       "│ e8fd8fee8c39342d37993775da7756d5 │         1706 │\n",
       "│ 2f4be6244ede15b46e8329a2c975be30 │         1620 │\n",
       "│ d49f81df0c75d1d72bee6c5b2d707da0 │         1571 │\n",
       "│ 4f7d493f0f6222d56e5b19a4f7c336cc │         1447 │\n",
       "│ 773b9bd5b02a2e96f9d732c29bfcb663 │         1411 │\n",
       "│                ·                 │           ·  │\n",
       "│                ·                 │           ·  │\n",
       "│                ·                 │           ·  │\n",
       "│ beb77036ff26e78865da19310ac95169 │          897 │\n",
       "│ 50cc2b20a3c2c24ce68bb2c0554ddae1 │          852 │\n",
       "│ fbbbfb737acb18812f7de2400841abc3 │          847 │\n",
       "│ 79fa510c3ab44548d903284ab9162c9d │          833 │\n",
       "│ 566ba5c5eeeac2fc18b65965c3909a1f │          787 │\n",
       "│ 27f5833380581fab3453c1acd26427d5 │          750 │\n",
       "│ 22da7e558d613074dc701f8a40bc955b │          735 │\n",
       "│ 74ce4ba0ef6c0d51e6a508b0bb2d37b8 │          730 │\n",
       "│ cb68fd028cfdfc837248144a18673ffb │          714 │\n",
       "│ a378e9743fa3ca297df321cfa0e7cf6a │          714 │\n",
       "├──────────────────────────────────┴──────────────┤\n",
       "│ 30 rows (20 shown)                    2 columns │\n",
       "└─────────────────────────────────────────────────┘"
      ]
     },
     "execution_count": 59,
     "metadata": {},
     "output_type": "execute_result"
    }
   ],
   "source": [
    "# Retornando os 30 usuários mais ativos\n",
    "duckdb.sql(\"SELECT id_member_anonymous, COUNT(id_member_anonymous) AS count_member FROM '../datasets/fakeTelegram_SemTravaZap_BR_2022.parquet'\" \\\n",
    "\"GROUP BY id_member_anonymous \" \\\n",
    "\"ORDER BY count_member DESC LIMIT 30 \")"
   ]
  },
  {
   "cell_type": "code",
   "execution_count": 22,
   "id": "9f4162e6",
   "metadata": {},
   "outputs": [
    {
     "data": {
      "text/plain": [
       "┌──────────────────────────────────┬────────────┐\n",
       "│       id_member_anonymous        │ count_text │\n",
       "│             varchar              │   int64    │\n",
       "├──────────────────────────────────┼────────────┤\n",
       "│ e7998863ac2a40086657fab4a6b463c9 │        189 │\n",
       "│ e5e3e38d433016adf62ea34432853a3c │        145 │\n",
       "│ b931bad9b759d8f473fc8eb65ed22426 │         61 │\n",
       "│ e8fd8fee8c39342d37993775da7756d5 │         54 │\n",
       "│ 09605fc0dabc0212d5566b001e4fe94d │         37 │\n",
       "│ 065039508ed6e276e5f092dd22eaef94 │         36 │\n",
       "│ 762eded3b216b0a586c9488078c3574a │         30 │\n",
       "│ c052c859b42c5a1923c22f5a201de746 │         26 │\n",
       "│ a3dbfcf3ede2f8912d7c6b85f0966586 │         25 │\n",
       "│ bd7859770eef94f34d0344a5397c5443 │         24 │\n",
       "│                ·                 │          · │\n",
       "│                ·                 │          · │\n",
       "│                ·                 │          · │\n",
       "│ 26b496125c8b6773bce453e14f172430 │         19 │\n",
       "│ 01642d1a0ebc95e3be57710a9e077dd7 │         18 │\n",
       "│ 79fa510c3ab44548d903284ab9162c9d │         18 │\n",
       "│ 50fb07e09e02859dab04ca92009ac821 │         18 │\n",
       "│ cda37da0b37f66ae54a731eeb8c367d4 │         17 │\n",
       "│ 2d0d09eb3b36d3929bc8a2bd868db640 │         17 │\n",
       "│ 4f7d493f0f6222d56e5b19a4f7c336cc │         17 │\n",
       "│ 91b96717b9950189c5ab72107e446fd8 │         16 │\n",
       "│ b4a2c0a09761d5582f8ef1123718d434 │         16 │\n",
       "│ e3afed0047b08059d0fada10f400c1e5 │         15 │\n",
       "├──────────────────────────────────┴────────────┤\n",
       "│ 30 rows (20 shown)                  2 columns │\n",
       "└───────────────────────────────────────────────┘"
      ]
     },
     "execution_count": 22,
     "metadata": {},
     "output_type": "execute_result"
    }
   ],
   "source": [
    "# Retornando os 30 usuários que mais compartilham mensagem de texto\n",
    "duckdb.sql(\"SELECT id_member_anonymous, \" \\\n",
    "\"COUNT(*) as count_text FROM '../datasets/fakeTelegram_SemTravaZap_BR_2022.parquet' \" \\\n",
    "\"WHERE REGEXP_MATCHES(text_content_anonymous, '^[a-zA-Z ]*$') AND  id_member_anonymous IS NOT NULL  \" \\\n",
    "\"GROUP BY id_member_anonymous ORDER BY count_text DESC LIMIT 30\")"
   ]
  },
  {
   "cell_type": "code",
   "execution_count": 21,
   "id": "b263f13e",
   "metadata": {},
   "outputs": [
    {
     "data": {
      "text/plain": [
       "┌──────────────────────────────────┬─────────────┐\n",
       "│       id_member_anonymous        │ count_midia │\n",
       "│             varchar              │    int64    │\n",
       "├──────────────────────────────────┼─────────────┤\n",
       "│ 1ac091b8ed5c4e42383f1b4ff4cc9b2d │        4632 │\n",
       "│ 1665e22b0f564cd46d343f7677014821 │        2972 │\n",
       "│ e7998863ac2a40086657fab4a6b463c9 │        1498 │\n",
       "│ 2f4be6244ede15b46e8329a2c975be30 │        1489 │\n",
       "│ 4f7d493f0f6222d56e5b19a4f7c336cc │        1359 │\n",
       "│ c052c859b42c5a1923c22f5a201de746 │        1289 │\n",
       "│ 773b9bd5b02a2e96f9d732c29bfcb663 │        1167 │\n",
       "│ 56b8359fd127312651b80b8ed8030085 │        1079 │\n",
       "│ e8fd8fee8c39342d37993775da7756d5 │        1007 │\n",
       "│ 3e49fd40fd973ee1b8f1a6d58feb4a54 │         965 │\n",
       "│                ·                 │          ·  │\n",
       "│                ·                 │          ·  │\n",
       "│                ·                 │          ·  │\n",
       "│ f4561a21fb26cfbebf48dcd5c557f82f │         650 │\n",
       "│ aed9b55fd26f99a58a11c11fa2af80ef │         644 │\n",
       "│ cb68fd028cfdfc837248144a18673ffb │         621 │\n",
       "│ 74ce4ba0ef6c0d51e6a508b0bb2d37b8 │         615 │\n",
       "│ fbbbfb737acb18812f7de2400841abc3 │         605 │\n",
       "│ 51110a75091ae9ede718a0b434227368 │         596 │\n",
       "│ cd6979b0b5265f08468fa1689b6300ce │         584 │\n",
       "│ 38e1ca63cd9f9c6ad762d833bcb1b118 │         580 │\n",
       "│ fb4a5f8c3319aa373d868e69589481f9 │         570 │\n",
       "│ d36c39da7c9705400e5056e033363b65 │         555 │\n",
       "├──────────────────────────────────┴─────────────┤\n",
       "│ 30 rows (20 shown)                   2 columns │\n",
       "└────────────────────────────────────────────────┘"
      ]
     },
     "execution_count": 21,
     "metadata": {},
     "output_type": "execute_result"
    }
   ],
   "source": [
    "# Os 30 usuários que mais compartilharam mídias; \n",
    "\n",
    "duckdb.sql(\"\" \\\n",
    "\"SELECT id_member_anonymous, COUNT(*) as count_midia FROM '../datasets/fakeTelegram_SemTravaZap_BR_2022.parquet' \" \\\n",
    "\"WHERE has_media = true AND id_member_anonymous IS NOT NULL GROUP BY id_member_anonymous ORDER BY count_midia DESC LIMIT 30\")\n"
   ]
  },
  {
   "cell_type": "code",
   "execution_count": null,
   "id": "3e7291b8",
   "metadata": {},
   "outputs": [
    {
     "data": {
      "text/plain": [
       "┌─────────────────────────────────────────────────────────────────────────────────────────────────────────┬────────────┐\n",
       "│                                         text_content_anonymous                                          │ count_text │\n",
       "│                                                 varchar                                                 │   int64    │\n",
       "├─────────────────────────────────────────────────────────────────────────────────────────────────────────┼────────────┤\n",
       "│ This community was blocked in Brazil following a decision of the Superior Electoral Court (TSE).        │      17422 │\n",
       "│ Rough_sex🙈                                                                                             │       1134 │\n",
       "│ Anal sex🙈                                                                                              │       1118 │\n",
       "│ سکس مردان ازبک با زن انگلیسی با این vpn از سایتهای ممنوعه ببینید🙈\\n\\nشاهد الرجال الأوزبكيين يمارسون …  │       1019 │\n",
       "│ https://youtu.be/qbTzhB0akt8                                                                            │        758 │\n",
       "│ https://youtu.be/zDuOoyhyN-4                                                                            │        712 │\n",
       "│ فیلم سوپر با زیرنویس فارسی ببین😍😍\\nبا این فیلترشکن میتونی هروقت دلت خواست فیلم سوپر ببینی😍\\n\\nAmer…  │        632 │\n",
       "│ Rough😱                                                                                                 │        570 │\n",
       "│ Foto de Nélia Barros                                                                                    │        548 │\n",
       "│ We had no choice but to remain in the shadows.  \\nThey intended to eliminate [us].  \\nThey wish to de…  │        480 │\n",
       "│      ·                                                                                                  │         ·  │\n",
       "│      ·                                                                                                  │         ·  │\n",
       "│      ·                                                                                                  │         ·  │\n",
       "│ Lesbian👩‍❤‍👩                                                                                            │        359 │\n",
       "│ Bem vindo(a) ao grupo Ipirá Notícias. \\n\\nCompartilhe nosso link. https://t.me/ipiranoticias            │        358 │\n",
       "│ Vaginall sex🙈                                                                                          │        354 │\n",
       "│ https://youtu.be/4DHk9KZ01HM                                                                            │        341 │\n",
       "│ https://youtu.be/wGpTY8GH568                                                                            │        234 │\n",
       "│ Vaginal sex🙈                                                                                           │        233 │\n",
       "│ Foto de susy silva                                                                                      │        202 │\n",
       "│ https://youtu.be/u-ZGL90PfeI                                                                            │        202 │\n",
       "│ Vídeo de AVANY FERREIRA MULLER                                                                          │        195 │\n",
       "│ https://youtu.be/aJ7uw_d-dUI                                                                            │        191 │\n",
       "├─────────────────────────────────────────────────────────────────────────────────────────────────────────┴────────────┤\n",
       "│ 30 rows (20 shown)                                                                                         2 columns │\n",
       "└──────────────────────────────────────────────────────────────────────────────────────────────────────────────────────┘"
      ]
     },
     "execution_count": 67,
     "metadata": {},
     "output_type": "execute_result"
    }
   ],
   "source": [
    "# As 30 mensagens mais compartilhadas; \n",
    "duckdb.sql(\"SELECT text_content_anonymous, COUNT(text_content_anonymous) AS count_text FROM '../datasets/fakeTelegram_SemTravaZap_BR_2022.parquet'\" \\\n",
    "\"GROUP BY text_content_anonymous \" \\\n",
    "\"ORDER BY count_text DESC LIMIT 30 \")"
   ]
  },
  {
   "cell_type": "code",
   "execution_count": 17,
   "id": "ec2e9941",
   "metadata": {},
   "outputs": [
    {
     "data": {
      "text/plain": [
       "┌───────────────────────────────────────────────────────────────────────────────────────────────────┬──────────────────┐\n",
       "│                                      text_content_anonymous                                       │ disticount_group │\n",
       "│                                              varchar                                              │      int64       │\n",
       "├───────────────────────────────────────────────────────────────────────────────────────────────────┼──────────────────┤\n",
       "│ This community was blocked in Brazil following a decision of the Superior Electoral Court (TSE).  │               59 │\n",
       "│ BOA NOITE A TODOS. O QUE EU VOU DIZER É SÉRIO A ESQUERDA ESTA AGINDO NOS GRUPOS DE WHATSAPP POS…  │               36 │\n",
       "│ Hoje às 18 horas no canal Inteligência Ltda do YouTube \\nhttps://youtube.com/c/Intelig%C3%AAnci…  │               35 │\n",
       "│ [USER]                                                                                            │               32 │\n",
       "│ https://youtu.be/zDuOoyhyN-4                                                                      │               31 │\n",
       "│ https://youtu.be/qbTzhB0akt8                                                                      │               30 │\n",
       "│ OS PTISTAS NÃO QUER QUE AGENTE MOSTRE QUE VOTOU NO BOLSONARO!\\n\\nNão é crime eleitoral fotograf…  │               29 │\n",
       "│ DE NADA IRÁ ADIANTAR FISCALIZAR AS URNAS, SE NÃO ELIMINAR O QUE CAUSOU A FRAUDE. TUDO SE REPETI…  │               29 │\n",
       "│ Ajudem a subir a #JanonesAmigoDePedofilo\\n\\nPor favor!!!!                                         │               29 │\n",
       "│ *ATENÇÃO* \\n🚨🚨🚨🚨🚨🚨🚨🚨🚨\\n\\n*CHAMADA URGENTE* Patriotas do BRASIL 🇧🇷 dias de maiores conce…  │               29 │\n",
       "│                                                 ·                                                 │                · │\n",
       "│                                                 ·                                                 │                · │\n",
       "│                                                 ·                                                 │                · │\n",
       "│ PESSOAL, POSTE SEU COMPROVANTE DE VOTO.\\n\\nSERÁ DISPONIBILIZADO EM MÍDIACOM TODOS OS COMPROVANT…  │               27 │\n",
       "│ Enviando por email requerimento GSI.pdf                                                           │               27 │\n",
       "│ Prezados Brasileiros Patriotas, \\nSaudações,\\n\\nINSCRITO NOS GRUPOS:   \\n 123.032\\n\\nCOMPROVANT…  │               27 │\n",
       "│ - Contra tudo e contra todos, tivemos no 1° turno de 2022 uma votação mais expressiva do que aq…  │               26 │\n",
       "│ CONTAGEM PÚBLICA DE VOTOS PRO BOLSONARO22 2⁰ TURNO BRASIL\\n\\nQUERIDOS AMIGOS PATRIOTAS,\\n\\n\\nMU…  │               26 │\n",
       "│ QUANDO ESTIVER ZERO MEMBROAQUI, TEREMOS A CERTEZA QUE TODOS JA ESTARAM NO GRUPO CERTO QUE FICAR…  │               26 │\n",
       "│ ATENÇÃO !!! ALERTA A TODOS!!\\n\\nA ESQUERDA ESTA AGINDO NOS GRUPOS DE WHATSAPP POSTANDO LINKS NA…  │               25 │\n",
       "│ JAIR BOLSONARO é o Presidente da República. Ele é candidato à reeleição, e vai parar a doideira…  │               25 │\n",
       "│ 1.466.497 assistindo agora  Transmissão iniciada há 62 minutos\\n\\nhttps://www.youtube.com/watch…  │               25 │\n",
       "│ A EXPLICAÇÃO DA MAIOR FRAUDE DO MUNDO                                                             │               25 │\n",
       "├───────────────────────────────────────────────────────────────────────────────────────────────────┴──────────────────┤\n",
       "│ 30 rows (20 shown)                                                                                         2 columns │\n",
       "└──────────────────────────────────────────────────────────────────────────────────────────────────────────────────────┘"
      ]
     },
     "execution_count": 17,
     "metadata": {},
     "output_type": "execute_result"
    }
   ],
   "source": [
    "# As 30 mensagens mais compartilhadas em grupos diferentes; \n",
    "duckdb.sql(\"SELECT text_content_anonymous, COUNT( DISTINCT(id_group_anonymous)) AS disticount_group\" \n",
    "\" FROM '../datasets/fakeTelegram_SemTravaZap_BR_2022.parquet'\" \\\n",
    "\"WHERE text_content_anonymous IS NOT NULL \" \\\n",
    "\"GROUP BY text_content_anonymous \" \\\n",
    "\"ORDER BY disticount_group DESC LIMIT 30 \")"
   ]
  },
  {
   "cell_type": "code",
   "execution_count": null,
   "id": "f4380a75",
   "metadata": {},
   "outputs": [
    {
     "data": {
      "text/plain": [
       "┌──────────────────────────────────────────────────────────────────────┬──────────────────────────────────┬────────────┐\n",
       "│                        text_content_anonymous                        │       id_member_anonymous        │ quantidade │\n",
       "│                               varchar                                │             varchar              │   int64    │\n",
       "├──────────────────────────────────────────────────────────────────────┼──────────────────────────────────┼────────────┤\n",
       "│ This community was blocked in Brazil following a decision of the S…  │ f233cf8b1d4ede06f32199a7e0081bf5 │        838 │\n",
       "│ This community was blocked in Brazil following a decision of the S…  │ c743967449a387ad2c1c7e03b2c45b36 │        532 │\n",
       "│ This community was blocked in Brazil following a decision of the S…  │ 7696d5103cdb8ac352d748a1db1126b0 │        530 │\n",
       "│ Bem vindo(a) ao grupo Ipirá Notícias. \\n\\nCompartilhe nosso link. …  │ 1665e22b0f564cd46d343f7677014821 │        357 │\n",
       "│ This community was blocked in Brazil following a decision of the S…  │ a398999c55f8d6f0c65760522ae12e45 │        308 │\n",
       "│ Anal sex🙈                                                           │ 9b371a7d40877606e49d03281c8ba0f4 │        272 │\n",
       "│ Anal sex🙈                                                           │ f3a914b5f81379cdf1689f202fe5ccd9 │        270 │\n",
       "│ Rough_sex🙈                                                          │ f48d327d4d2e0542af2d0d6e47503ad2 │        245 │\n",
       "│ Rough_sex🙈                                                          │ bbfbcf36aa8384a943aa8928f98e5b99 │        233 │\n",
       "│ Rough_sex🙈                                                          │ 6908364802e043e85b1f2bff313e0926 │        195 │\n",
       "│      ·                                                               │                ·                 │          · │\n",
       "│      ·                                                               │                ·                 │          · │\n",
       "│      ·                                                               │                ·                 │          · │\n",
       "│ *PARTIDO DO PT É UMA FABRICA DE CORRUPÇÃO MANIPULA ATÉ HORÁRIOS PO…  │ 7ee0c21fabe7324f2db8329509a102de │          2 │\n",
       "│ https://youtu.be/3p0znWxhFpA                                         │ 1ac091b8ed5c4e42383f1b4ff4cc9b2d │          2 │\n",
       "│ Ex-assessor do TSE teme ser preso por ordem de Alexandre de Moraes.  │ c052c859b42c5a1923c22f5a201de746 │          2 │\n",
       "│ Moraes matou no peito o processo, diz Bolsonaro, sobre inserções d…  │ c052c859b42c5a1923c22f5a201de746 │          2 │\n",
       "│ De um lado temos um homem de cabeça erguida debatendo o Brasil e d…  │ 1ac091b8ed5c4e42383f1b4ff4cc9b2d │          2 │\n",
       "│ https://youtube.com/shorts/WQ9jveawM9Y?feature=share                 │ 38e1ca63cd9f9c6ad762d833bcb1b118 │          2 │\n",
       "│ Pra começar bem a semana. Foco total!\\nVamos vencer!\\n\\n[USER]       │ 1ac091b8ed5c4e42383f1b4ff4cc9b2d │          2 │\n",
       "│ 23/10 - BOLSONARO NA RECORD\\nAnálise do Pilhado \\nhttps://youtu.be…  │ 3e56c89adedd461832a4a3b4ab9b776a │          2 │\n",
       "│ 🌩\\n\\nVenezuela fechou 15 rádios nesta semana, afirma Sindicato nac…  │ 4f7d493f0f6222d56e5b19a4f7c336cc │          2 │\n",
       "│ https://youtu.be/2eSko9nprR0                                         │ 87094e375f083716b1cda7bc9bd5279a │          2 │\n",
       "├──────────────────────────────────────────────────────────────────────┴──────────────────────────────────┴────────────┤\n",
       "│ ? rows (>9999 rows, 20 shown)                                                                              3 columns │\n",
       "└──────────────────────────────────────────────────────────────────────────────────────────────────────────────────────┘"
      ]
     },
     "execution_count": 26,
     "metadata": {},
     "output_type": "execute_result"
    }
   ],
   "source": [
    "# Mensagens idênticas compartilhadas pelo mesmo usuário (e suas quantidades)\n",
    "duckdb.sql(\n",
    "    \"SELECT text_content_anonymous, id_member_anonymous, count(*) as quantidade FROM '../datasets/fakeTelegram_SemTravaZap_BR_2022.parquet' \" \\\n",
    "    \"WHERE text_content_anonymous IS NOT NULL AND id_member_anonymous IS NOT NULL \"\\\n",
    "    \"GROUP BY text_content_anonymous, id_member_anonymous \" \\\n",
    "    \"HAVING count(*) > 1 ORDER BY quantidade DESC \")"
   ]
  },
  {
   "cell_type": "code",
   "execution_count": 27,
   "id": "99edf3c8",
   "metadata": {},
   "outputs": [
    {
     "data": {
      "text/plain": [
       "┌─────────────────────────────────────────────┬──────────────────────────────────┬────────────┬────────────────────────┐\n",
       "│           text_content_anonymous            │       id_member_anonymous        │ quantidade │ disticount_group_count │\n",
       "│                   varchar                   │             varchar              │   int64    │         int64          │\n",
       "├─────────────────────────────────────────────┼──────────────────────────────────┼────────────┼────────────────────────┤\n",
       "│ - Contra tudo e contra todos, tivemos no …  │ 32783be6c9de86a5b268719d4a151a93 │          2 │                      2 │\n",
       "│ DAS DUAS UMA, OU METERAM A MÃO NA CARA DU…  │ 8e72a8fbc76263914ed485ab068396fd │          2 │                      2 │\n",
       "│ https://vm.tiktok.com/ZMFFdHemm             │ 1d0f50675e9ae0d02d348ee539945ddf │          2 │                      2 │\n",
       "│ https://t.me/+hXARlf2UnEEwOTVh\\nESTÃO QUE…  │ 27cd6763c7e92cf24461024c99369d0e │          2 │                      2 │\n",
       "│ 🚨🚨 No primeiro turno fui mesário, e ser…  │ fbbbfb737acb18812f7de2400841abc3 │          2 │                      2 │\n",
       "│ Bolsonaro pede que apoiadores mantenham o…  │ 709baff20e4284322e7d02abb2a4606d │          2 │                      2 │\n",
       "│ O ISENTÃO E O AVESTRUZ – Guardiões da Naç…  │ d8cca81e3540ae4de37e27d192bfd245 │          2 │                      2 │\n",
       "│ https://www.instagram.com/reel/CjROVKNvft…  │ 530db5d239f941ef44aae189f20b44a2 │          2 │                      2 │\n",
       "│ https://www.facebook.com/100005938713273/…  │ 1d0f50675e9ae0d02d348ee539945ddf │          2 │                      2 │\n",
       "│ O povo brasileiro tem que parar de brigar…  │ b983888246c4fa699a95e9cb53859628 │          2 │                      2 │\n",
       "│                      ·                      │                ·                 │          · │                      · │\n",
       "│                      ·                      │                ·                 │          · │                      · │\n",
       "│                      ·                      │                ·                 │          · │                      · │\n",
       "│ Mais uma mentira do PT. NAO HOUVE CORTE N…  │ 5b3b4a70c660211290608bee09dcbebc │          2 │                      1 │\n",
       "│ Meu Deus. Este grupo está parecendo uma p…  │ 117d5d4ba504d6473889c14dad616f0a │          2 │                      1 │\n",
       "│ Precisamos estar num grupo de telegram e …  │ 24242a8ee84df5f6318a3ee31c114044 │          2 │                      1 │\n",
       "│ 🇧🇷 2º Turno 🇧🇷\\n\\nRepassem, ainda dá tempo!…  │ ccc244cea1e36b39305e243b4d34cafe │          2 │                      1 │\n",
       "│ Andrea, pressione o botão abaixo dentro d…  │ c743967449a387ad2c1c7e03b2c45b36 │          2 │                      1 │\n",
       "│ https://youtu.be/WfwHCa0AzIM                │ 34009c4311b7e2ddbe3568d302ad4a8d │          2 │                      1 │\n",
       "│ Foto de ❤️ Fábio Yatti 🌟                    │ 41f396851a669f427d147fd0ff7df66f │          2 │                      1 │\n",
       "│ De acordo com especialistas, provavelment…  │ 9b34f45b5f8af4c37ba9ec1ebe2e3606 │          2 │                      1 │\n",
       "│ *O PT divulga abertamente, em seu Site, p…  │ 6da20bb6a96bd550537ba474f934cc7e │          2 │                      1 │\n",
       "│ Gente do nosso Brasil\\n\\nAgora não é mais…  │ f170ab306107446e54eeb8d090e43986 │          2 │                      1 │\n",
       "├─────────────────────────────────────────────┴──────────────────────────────────┴────────────┴────────────────────────┤\n",
       "│ ? rows (>9999 rows, 20 shown)                                                                              4 columns │\n",
       "└──────────────────────────────────────────────────────────────────────────────────────────────────────────────────────┘"
      ]
     },
     "execution_count": 27,
     "metadata": {},
     "output_type": "execute_result"
    }
   ],
   "source": [
    "# Mensagens idênticas compartilhadas pelo mesmo usuário em grupos distintos (e suas quantidades);\n",
    "duckdb.sql(\n",
    "    \"SELECT \" \\\n",
    "    \"text_content_anonymous, \" \\\n",
    "    \"id_member_anonymous, \" \\\n",
    "    \"count(*) as quantidade,\" \\\n",
    "    \"COUNT( DISTINCT(id_group_anonymous)) AS disticount_group_count \" \\\n",
    "    \" FROM '../datasets/fakeTelegram_SemTravaZap_BR_2022.parquet' \" \\\n",
    "    \"WHERE text_content_anonymous IS NOT NULL AND id_member_anonymous IS NOT NULL \"\\\n",
    "    \"GROUP BY text_content_anonymous, id_member_anonymous \" \\\n",
    "    \"HAVING count(*) > 1 ORDER BY quantidade, disticount_group_count DESC \")"
   ]
  },
  {
   "cell_type": "code",
   "execution_count": null,
   "id": "7ac2830c",
   "metadata": {},
   "outputs": [],
   "source": [
    "from sklearn.feature_extraction.text import CountVectorizer\n",
    "\n",
    "\n",
    "consulta_limpa = duckdb.sql(\"SELECT LOWER(text_content_anonymous) AS texto FROM '../datasets/fakeTelegram_SemTravaZap_BR_2022.parquet'\" \\\n",
    "\" WHERE text_content_anonymous IS NOT NULL\").df()\n",
    "\n",
    "vectorizer = CountVectorizer(ngram_range=(1, 3), max_features=30)\n",
    "X = vectorizer.fit_transform(consulta_limpa[\"texto\"])\n",
    "\n",
    "\n",
    "ngrams = vectorizer.get_feature_names_out()\n",
    "counts = X.toarray().sum(axis=0)\n",
    "result = sorted(zip(ngrams, counts), key=lambda x: x[1], reverse=True)\n"
   ]
  },
  {
   "cell_type": "code",
   "execution_count": 5,
   "id": "f43717dc",
   "metadata": {},
   "outputs": [
    {
     "name": "stdout",
     "output_type": "stream",
     "text": [
      "[('de', 474760), ('que', 306455), ('do', 207160), ('com', 188125), ('https', 168455), ('não', 164519), ('para', 163892), ('no', 131670), ('em', 130060), ('da', 127004), ('se', 111695), ('os', 93381), ('um', 82615), ('bolsonaro', 78953), ('na', 76359), ('user', 74344), ('as', 69542), ('por', 67090), ('uma', 62875), ('be', 61236), ('mais', 59149), ('youtu', 58208), ('youtu be', 58207), ('https youtu', 57882), ('https youtu be', 57882), ('me', 54837), ('lula', 53711), ('brasil', 53117), ('ao', 48230), ('como', 45471)]\n"
     ]
    }
   ],
   "source": [
    "print(result)"
   ]
  },
  {
   "cell_type": "code",
   "execution_count": 6,
   "id": "f411dfa4",
   "metadata": {},
   "outputs": [
    {
     "data": {
      "text/plain": [
       "┌────────────────────────┐\n",
       "│    score_sentiment     │\n",
       "│         double         │\n",
       "├────────────────────────┤\n",
       "│                    0.0 │\n",
       "│                 0.0644 │\n",
       "│                -0.3551 │\n",
       "│                    0.0 │\n",
       "│                   NULL │\n",
       "│                 0.7003 │\n",
       "│                 0.9716 │\n",
       "│                   NULL │\n",
       "│                   NULL │\n",
       "│                -0.8779 │\n",
       "│                     ·  │\n",
       "│                     ·  │\n",
       "│                     ·  │\n",
       "│                    0.0 │\n",
       "│                    0.0 │\n",
       "│                    0.0 │\n",
       "│                -0.6249 │\n",
       "│                    0.0 │\n",
       "│                 -0.765 │\n",
       "│                   NULL │\n",
       "│                   NULL │\n",
       "│                -0.7269 │\n",
       "│                    0.0 │\n",
       "├────────────────────────┤\n",
       "│         ? rows         │\n",
       "│ (>9999 rows, 20 shown) │\n",
       "└────────────────────────┘"
      ]
     },
     "execution_count": 6,
     "metadata": {},
     "output_type": "execute_result"
    }
   ],
   "source": [
    "duckdb.sql(\"SELECT score_sentiment FROM '../datasets/fakeTelegram_SemTravaZap_BR_2022.parquet' \")"
   ]
  },
  {
   "cell_type": "code",
   "execution_count": 9,
   "id": "20e8214a",
   "metadata": {},
   "outputs": [
    {
     "data": {
      "text/plain": [
       "┌────────────────────────────────────────────────────────────────────────────────────────────────────┬─────────────────┐\n",
       "│                                       text_content_anonymous                                       │ score_sentiment │\n",
       "│                                              varchar                                               │     double      │\n",
       "├────────────────────────────────────────────────────────────────────────────────────────────────────┼─────────────────┤\n",
       "│ Shemoneh Esreh – Amidá – A Grande Oração\\n\\n ,Avot - Benção dos Patriarcas\\n\\nÓ Senhor, abre os …  │          0.9992 │\n",
       "│ MENTIROSA!!!\\n\\n\\nPensa direita, não é correto compartilhar um vídeo manipulado, sem fonte e que…  │           0.999 │\n",
       "│ Pensa direita, não é correto compartilhar um vídeo manipulado, sem fonte e que deturpa fatos rea…  │           0.999 │\n",
       "│ בונה ירושלים, Bo'ne Yetrushalayim - Benção da Reconstrução de Jerusalém\\n\\nE retorna com miseric…  │          0.9989 │\n",
       "│ Os Sete Samurais \\n \\nQuando falamos sobre Força e Honra, muitas pessoas não querem entender o f…  │          0.9988 │\n",
       "│ MANIFESTO À NAÇÃO BRASILEIRA\\n\\nEM DEFESA DO BRASIL E DAS LIBERDADES DO POVO, PELO POVO E PARA P…  │          0.9987 │\n",
       "│ BOM DIA A TODOS. ENTENDO QUE ESTAMOS VIVENDO DIAS BEM DIFÍCEIS, MAS, NADA QUE NÃO TENHA SIDO ALE…  │          0.9986 │\n",
       "│ Olá ,\\n\\nUM AMIGO ME PERGUNTOU EM QUEM EU VOTEI, RESPONDI QUE FOI NO BOLSONARO, E ELE PERGUNTOU …  │          0.9986 │\n",
       "│ Uma forma bem legal\\nPara quem ainda não sabe em quem votar.\\nPerguntas e respostas para auxilia…  │          0.9985 │\n",
       "│  \\nA Viva Esperança\\n\\nDepois das saudações iniciais da sua primeira epístola, o apóstolo Pedro …  │          0.9985 │\n",
       "│                                                 ·                                                  │             ·   │\n",
       "│                                                 ·                                                  │             ·   │\n",
       "│                                                 ·                                                  │             ·   │\n",
       "│ 🍞 ORANDO A PALAVRA DIARIAMENTE🍷\\n\\nDevocional de 30 de outubro de 2022\\n\\n'Cantarei ao SENHOR …  │          0.9978 │\n",
       "│ Louve a Deus em Todos os Momentos\\n\\n\\n\\nImagine desistir de seu único filho porque você fez uma…  │          0.9978 │\n",
       "│ 2 Crônicas 6\\nSalomão fala ao povo\\n6 Então Salomão orou assim:\\n\\n“Ó Senhor Deus, tu resolveste…  │          0.9977 │\n",
       "│ As cinco  virgens prudentes que receberam as cinco coroas👑\\nA Parábola das Dez Virgens está no …  │          0.9976 │\n",
       "│ Vamos ver um texto aqui?\\n\\nQuero provar pra você uma coisa muito importante.\\n\\nProvérbios 25:2…  │          0.9976 │\n",
       "│ AS MESMAS COISAS SUCEDEM AOS JUSTOS  E INJUSTOS.\\nGOZEMOS OS BENS QUE DEUS NOS DÁ.\\n\"Deveras rev…  │          0.9975 │\n",
       "│ Ao Criador,\\n\\nCriador de todas as Possibilidades,\\n\\nAmado Criador,\\n\\nCá entre nós, Eu e Tu , …  │          0.9975 │\n",
       "│ GOSTAR?\\n\\nOlá,\\nUm amigo perguntou-me: \\nEm quem você votou?\\nRespondi: No Bolsonaro!\\nEle me p…  │          0.9975 │\n",
       "│ E se eu lhe disser que a democracia uma fraude\\n\\nE se eu lhe disser que você só pode votar porq…  │          0.9974 │\n",
       "│ UM AMIGO ME PERGUNTOU EM QUEM EU VOTEI, RESPONDI QUE FOI NO BOLSONARO. ELE ME PERGUNTOU SE EU GO…  │          0.9974 │\n",
       "├────────────────────────────────────────────────────────────────────────────────────────────────────┴─────────────────┤\n",
       "│ 30 rows (20 shown)                                                                                         2 columns │\n",
       "└──────────────────────────────────────────────────────────────────────────────────────────────────────────────────────┘"
      ]
     },
     "execution_count": 9,
     "metadata": {},
     "output_type": "execute_result"
    }
   ],
   "source": [
    "# As 30 mensagens mais positivas (distintas)\n",
    "duckdb.sql(\"SELECT DISTINCT(text_content_anonymous), score_sentiment\" \\\n",
    "\" FROM '../datasets/fakeTelegram_SemTravaZap_BR_2022.parquet' \" \\\n",
    "\"WHERE  score_sentiment >= 0.05 \" \\\n",
    "\"ORDER BY score_sentiment DESC LIMIT 30\")"
   ]
  },
  {
   "cell_type": "code",
   "execution_count": 10,
   "id": "9d4ecdda",
   "metadata": {},
   "outputs": [
    {
     "data": {
      "text/plain": [
       "┌────────────────────────────────────────────────────────────────────────────────────────────────────┬─────────────────┐\n",
       "│                                       text_content_anonymous                                       │ score_sentiment │\n",
       "│                                              varchar                                               │     double      │\n",
       "├────────────────────────────────────────────────────────────────────────────────────────────────────┼─────────────────┤\n",
       "│ Carluxo internado numa sexta a noite? Algo não tá cheirando bem. 😂                                │          0.0498 │\n",
       "│ Se vc se acha tão bem informado saia desse grupo que não te agrega em nada.                        │          0.0498 │\n",
       "│ O Presidente já falou alguma coisa  ? Com certeza esta organizando algo para nós direcionar        │          0.0498 │\n",
       "│ Esse vídeo é demais. Mas não consigo enviar no zap. Só vai 2min50seg. Me ajuda. Como faço.         │          0.0471 │\n",
       "│ Deus tem que dar uma luz pra gente fazer algo que não tenha como eles fr#udarem                    │           0.046 │\n",
       "│ O Ditim Macumbeiro e o cabeça de xana raspada não deixaria passar uma propaganda tão linda e ver…  │          0.0442 │\n",
       "│ DEPUTADOS FEDERAIS\\nSão 8 deputados:\\n\\n.\\nREGIÃO NORTE\\n\\nACRE\\n\\nGovernador:\\n\\nSenador: Márci…  │          0.0431 │\n",
       "│ Assista a \"CANTOR LEONARDO MANDA FORTE RECADO PARA O BRASIL AMANHÃ É O GRANDE DIA\" no YouTube\\nh…  │          0.0431 │\n",
       "│ E você está aí apoiando seu candidato que apóia MENTIRAS em rede nacional                          │          0.0431 │\n",
       "│ Fico observando as postagens aqui..\\nPQ NAO VEJO NAS REDES SOCIAIS AS MESMAS 🤔                    │          0.0431 │\n",
       "│                                        ·                                                           │             ·   │\n",
       "│                                        ·                                                           │             ·   │\n",
       "│                                        ·                                                           │             ·   │\n",
       "│ Não precisa de escorrer SANGUE... PRECISAMOS SAIR AS RUAS E PEDIR VOTO IMPRESSO NO SEGUNDO TURNO…  │          0.0387 │\n",
       "│ Mas Susy, o cidadão de bem não está sempre protegido se tiver uma arma?                            │          0.0387 │\n",
       "│ Mas saiu na jovem pan, acho que não é fake 👆                                                      │          0.0387 │\n",
       "│ pra sua infelicidade não vejo os vídeos que vc spamma. Mas não se preocupe, quando eu quiser rir…  │          0.0387 │\n",
       "│ Não suporto quem apoia o presidente mas fica fazendo ressalvas. Nojo.                              │          0.0387 │\n",
       "│ Mas vc é um grande sujeito e gosto muito do canal, o único defeito, na minha opinião que vc não …  │          0.0387 │\n",
       "│ Gente,essa guerra é espiritual.\\nTodos aqueles que desejam a liberdade e a paz e a justiça, nunc…  │          0.0387 │\n",
       "│ Fakenews. As urnas atuais vão deixar um tempo maior para que confira seu voto e depois CONFIRMA.…  │          0.0387 │\n",
       "│ No sistema do \"Goøgllx da Bandx\" Covide subiu o gráfico mas o SUS que é atrelado nem se mecheu k…  │          0.0387 │\n",
       "│ ACM Neto não declarou, ainda, apoio a Bolsonaro na Bahia, mas...                                   │          0.0387 │\n",
       "├────────────────────────────────────────────────────────────────────────────────────────────────────┴─────────────────┤\n",
       "│ 30 rows (20 shown)                                                                                         2 columns │\n",
       "└──────────────────────────────────────────────────────────────────────────────────────────────────────────────────────┘"
      ]
     },
     "execution_count": 10,
     "metadata": {},
     "output_type": "execute_result"
    }
   ],
   "source": [
    "# As 30 mensagens mais negativas (distintas)\n",
    "duckdb.sql(\"SELECT DISTINCT(text_content_anonymous), score_sentiment\" \\\n",
    "\" FROM '../datasets/fakeTelegram_SemTravaZap_BR_2022.parquet' \" \\\n",
    "\"WHERE  score_sentiment <= 0.05 \" \\\n",
    "\"ORDER BY score_sentiment DESC LIMIT 30\")"
   ]
  },
  {
   "cell_type": "code",
   "execution_count": 20,
   "id": "b1c57f05",
   "metadata": {},
   "outputs": [
    {
     "data": {
      "text/plain": [
       "┌──────────────────────────────────┬─────────────┐\n",
       "│       id_member_anonymous        │ media_score │\n",
       "│             varchar              │   double    │\n",
       "├──────────────────────────────────┼─────────────┤\n",
       "│ 016723c9eb650754d3dfe9b3ba69e5c2 │      0.9953 │\n",
       "└──────────────────────────────────┴─────────────┘"
      ]
     },
     "execution_count": 20,
     "metadata": {},
     "output_type": "execute_result"
    }
   ],
   "source": [
    "# O usuário mais otimista; \n",
    "duckdb.sql(\"SELECT id_member_anonymous, AVG(score_sentiment) AS media_score \" \\\n",
    "\" FROM '../datasets/fakeTelegram_SemTravaZap_BR_2022.parquet' \" \\\n",
    "\"GROUP BY id_member_anonymous \" \\\n",
    "\"ORDER BY media_score DESC LIMIT 1\")"
   ]
  },
  {
   "cell_type": "code",
   "execution_count": 21,
   "id": "93deadc8",
   "metadata": {},
   "outputs": [
    {
     "data": {
      "text/plain": [
       "┌──────────────────────────────────┬─────────────┐\n",
       "│       id_member_anonymous        │ media_score │\n",
       "│             varchar              │   double    │\n",
       "├──────────────────────────────────┼─────────────┤\n",
       "│ 243a43d802953032e1ea9a363546c3b8 │     -0.9992 │\n",
       "└──────────────────────────────────┴─────────────┘"
      ]
     },
     "execution_count": 21,
     "metadata": {},
     "output_type": "execute_result"
    }
   ],
   "source": [
    "# O usuário mais pessimista; \n",
    "duckdb.sql(\"SELECT id_member_anonymous, AVG(score_sentiment) AS media_score \" \\\n",
    "\" FROM '../datasets/fakeTelegram_SemTravaZap_BR_2022.parquet' \" \\\n",
    "\"GROUP BY id_member_anonymous \" \\\n",
    "\"ORDER BY media_score LIMIT 1\")"
   ]
  },
  {
   "cell_type": "code",
   "execution_count": 22,
   "id": "ac64752f",
   "metadata": {},
   "outputs": [
    {
     "data": {
      "text/plain": [
       "┌──────────────────────────────────────────────────────────────────────────────────────────────────────┬───────────────┐\n",
       "│                                        text_content_anonymous                                        │ numero_string │\n",
       "│                                               varchar                                                │     int64     │\n",
       "├──────────────────────────────────────────────────────────────────────────────────────────────────────┼───────────────┤\n",
       "│ CCCCCCCCCCCCCCCCCCCCCCCHHHHHHHHHHHHHHHHHHHHHOOOOOOOOOOOOOOOOOOOOOORRRRRRRRRRRRRRRRRRRRRRRRAAAAAAAA…  │          4096 │\n",
       "│ 1: Sansão foi a Gaza, e viu ali uma prostituta, e entrou a ela. \\n2: E foi dito aos gazitas: Sansã…  │          4096 │\n",
       "│ CCCCCCCCCCCCCCCCCCCCCCCHHHHHHHHHHHHHHHHHHHHHOOOOOOOOOOOOOOOOOOOOOORRRRRRRRRRRRRRRRRRRRRRRRAAAAAAAA…  │          4096 │\n",
       "│ CCCCCCCCCCCCCCCCCCCCCCCHHHHHHHHHHHHHHHHHHHHHOOOOOOOOOOOOOOOOOOOOOORRRRRRRRRRRRRRRRRRRRRRRRAAAAAAAA…  │          4096 │\n",
       "│ 1: Aconteceu também naqueles dias, quando não havia melech em Yisra-EL, que certo levita, habitant…  │          4096 │\n",
       "│ 1: Naqueles dias não havia melech em Yisra-EL; a tribo dos danitas buscava para si herança em que …  │          4096 │\n",
       "│ 1: Aconteceu também naqueles dias, quando não havia melech em Yisra-EL, que certo levita, habitant…  │          4096 │\n",
       "│ COMO O SOCIALISMO DESTRUIU A VENEZUELA EM POUCOS ANOS!\\n\\nA Venezuela foi o primeiro país sul-amer…  │          4096 │\n",
       "│ Trecho do livro “Prática da Conspiração A Agenda Maligna” (Parte 2)\\n\\nRecado De Um Illuminati\\n\\n…  │          4096 │\n",
       "│ Trecho do livro “Prática da Conspiração A Agenda Maligna” (Parte 2)\\n\\nRecado De Um Illuminati\\n\\n…  │          4096 │\n",
       "│                                                  ·                                                   │            ·  │\n",
       "│                                                  ·                                                   │            ·  │\n",
       "│                                                  ·                                                   │            ·  │\n",
       "│ [USER]⚠️⚠️DIVULGEM O MÁXIMO POSSÍVEL \\n\\nVAMOS LEVANTAR \\nESTA NAÇÃO E \\nSALVAR NOSSO PAÍS. \\nNÃO BA…  │          4095 │\n",
       "│ 1 – A Estratégia da Distração.\\n\\nO elemento primordial do controle social é a estratégia da distr…  │          4095 │\n",
       "│ 1 – A Estratégia da Distração.\\n\\nO elemento primordial do controle social é a estratégia da distr…  │          4095 │\n",
       "│ 1 – A Estratégia da Distração.\\n\\nO elemento primordial do controle social é a estratégia da distr…  │          4095 │\n",
       "│ 1 – A Estratégia da Distração.\\n\\nO elemento primordial do controle social é a estratégia da distr…  │          4095 │\n",
       "│ 🔴 ALERTA TOTAL 🆘️ 💣 YAHU E YAHUSHUA São Merda de Vaso❓️😱Somos Cabalistas❓️Siguimos  Nomes Abiss…  │          4094 │\n",
       "│ 🔴 ALERTA TOTAL 🆘️ 💣 YAHU E YAHUSHUA São Merda de Vaso❓️😱Somos Cabalistas❓️Siguimos  Nomes Abiss…  │          4094 │\n",
       "│ 🔴 ALERTA TOTAL 🆘️ 💣 YAHU E YAHUSHUA São Merda de Vaso❓️😱Somos Cabalistas❓️Siguimos  Nomes Abiss…  │          4094 │\n",
       "│ PERNAMBUCO ⚽️🎄 Prefeitura do Recife abre inscrições para licenciamento de barracas de rua para Co…  │          4094 │\n",
       "│ ✳️❇️⚜️⚓⚜️❇️✳️\\n\\nELEIÇÕES 2022- DIVULGADO O ESCÂNDALO QUE TODO MUNDO SUSPEITAVA\\n\\nTalvez, isso expliqu…  │          4093 │\n",
       "├──────────────────────────────────────────────────────────────────────────────────────────────────────┴───────────────┤\n",
       "│ 30 rows (20 shown)                                                                                         2 columns │\n",
       "└──────────────────────────────────────────────────────────────────────────────────────────────────────────────────────┘"
      ]
     },
     "execution_count": 22,
     "metadata": {},
     "output_type": "execute_result"
    }
   ],
   "source": [
    "# As 30 maiores mensagens; \n",
    "duckdb.sql(\"SELECT text_content_anonymous, length(text_content_anonymous) AS numero_string \" \\\n",
    "\"FROM '../datasets/fakeTelegram_SemTravaZap_BR_2022.parquet' \" \\\n",
    "\"ORDER BY numero_string DESC LIMIT 30\")"
   ]
  },
  {
   "cell_type": "code",
   "execution_count": 23,
   "id": "5d1a4ea2",
   "metadata": {},
   "outputs": [
    {
     "data": {
      "text/plain": [
       "┌────────────────────────┬───────────────┐\n",
       "│ text_content_anonymous │ numero_string │\n",
       "│        varchar         │     int64     │\n",
       "├────────────────────────┼───────────────┤\n",
       "│ 🤯                     │             1 │\n",
       "│ 😎                     │             1 │\n",
       "│ 😢                     │             1 │\n",
       "│ 💣                     │             1 │\n",
       "│ 🤔                     │             1 │\n",
       "│ 🌩                      │             1 │\n",
       "│ Q                      │             1 │\n",
       "│ 😅                     │             1 │\n",
       "│ 🌹                     │             1 │\n",
       "│ 🤭                     │             1 │\n",
       "│ ·                      │             · │\n",
       "│ ·                      │             · │\n",
       "│ ·                      │             · │\n",
       "│ .                      │             1 │\n",
       "│ .                      │             1 │\n",
       "│ .                      │             1 │\n",
       "│ 🔥                     │             1 │\n",
       "│ 🌩                      │             1 │\n",
       "│ 🤭                     │             1 │\n",
       "│ 👀                     │             1 │\n",
       "│ 🌩                      │             1 │\n",
       "│ 🌩                      │             1 │\n",
       "│ 🤭                     │             1 │\n",
       "├────────────────────────┴───────────────┤\n",
       "│ 30 rows (20 shown)           2 columns │\n",
       "└────────────────────────────────────────┘"
      ]
     },
     "execution_count": 23,
     "metadata": {},
     "output_type": "execute_result"
    }
   ],
   "source": [
    "# As 30 menores mensagens; \n",
    "duckdb.sql(\"SELECT text_content_anonymous, length(text_content_anonymous) AS numero_string \" \\\n",
    "\"FROM '../datasets/fakeTelegram_SemTravaZap_BR_2022.parquet' \" \\\n",
    "\"ORDER BY numero_string LIMIT 30\")"
   ]
  },
  {
   "cell_type": "code",
   "execution_count": 25,
   "id": "e5868db2",
   "metadata": {},
   "outputs": [
    {
     "data": {
      "text/plain": [
       "┌─────────────────────┬───────────────┐\n",
       "│    date_message     │ numero_string │\n",
       "│       varchar       │     int64     │\n",
       "├─────────────────────┼───────────────┤\n",
       "│ 2022-10-05 08:02:17 │          4096 │\n",
       "└─────────────────────┴───────────────┘"
      ]
     },
     "execution_count": 25,
     "metadata": {},
     "output_type": "execute_result"
    }
   ],
   "source": [
    "# O dia em que foi publicado a maior quantidade de mensagens; \n",
    "duckdb.sql(\"SELECT date_message, length(text_content_anonymous) AS numero_string \" \\\n",
    "\"FROM '../datasets/fakeTelegram_SemTravaZap_BR_2022.parquet' \" \\\n",
    "\"ORDER BY numero_string DESC LIMIT 1\")"
   ]
  },
  {
   "cell_type": "code",
   "execution_count": 28,
   "id": "7a7efad6",
   "metadata": {},
   "outputs": [
    {
     "data": {
      "text/plain": [
       "┌──────────────────────────────────────────────────────────────────────────────────────────────────────────────────────┐\n",
       "│                                                text_content_anonymous                                                │\n",
       "│                                                       varchar                                                        │\n",
       "├──────────────────────────────────────────────────────────────────────────────────────────────────────────────────────┤\n",
       "│ #lulaladrãoseulugarénaprisão \\n#PTFACÇÃOCRIMINOSA \\n\\n\\n\\nhttps://gettr.com/post/p1t8lax7bb8                         │\n",
       "│ PT NÃO É PARTIDO POLÍTICO É FACÇÃO CRIMINOSA ... BANDIDOS SUJOS                                                      │\n",
       "│ 🚨 LULA USA BONE COM SIGLA CPX NO COMPLEXO DO ALEMAO!.🚨\\n\\n🚨 CPX  É UMA FACÇÃO CRIMINOSA DO ALEMAO ALIADA AO CV …  │\n",
       "│ 🚨 LULA USA BONE COM SIGLA CPX NO COMPLEXO DO ALEMAO!.🚨\\n\\n🚨 CPX  É UMA FACÇÃO CRIMINOSA DO ALEMAO ALIADA AO CV …  │\n",
       "│ 🚨 LULA USA BONE COM SIGLA CPX NO COMPLEXO DO ALEMAO!.🚨\\n\\n🚨 CPX  É UMA FACÇÃO CRIMINOSA DO ALEMAO ALIADA AO CV …  │\n",
       "│ - LULA USA BONE COM SIGLA CPX NO COMPLEXO DO ALEMAO!.\\n\\n- CPX  É UMA FACÇÃO CRIMINOSA DO ALEMAO ALIADA AO CV COMA…  │\n",
       "│ - LULA USA BONE COM SIGLA CPX NO COMPLEXO DO ALEMAO!.\\n\\n- CPX  É UMA FACÇÃO CRIMINOSA DO ALEMAO ALIADA AO CV COMA…  │\n",
       "│ 🚨 LULA USA BONE COM SIGLA CPX NO COMPLEXO DO ALEMAO!.🚨\\n\\n🚨 CPX  É UMA FACÇÃO CRIMINOSA DO ALEMAO ALIADA AO CV …  │\n",
       "│ - LULA USA BONE COM SIGLA CPX NO COMPLEXO DO ALEMAO!.\\n\\n- CPX  É UMA FACÇÃO CRIMINOSA DO ALEMAO ALIADA AO CV COMA…  │\n",
       "│ - LULA USA BONE COM SIGLA CPX NO COMPLEXO DO ALEMAO!.\\n\\n- CPX  É UMA FACÇÃO CRIMINOSA DO ALEMAO ALIADA AO CV COMA…  │\n",
       "│ - LULA USA BONE COM SIGLA CPX NO COMPLEXO DO ALEMAO!.\\n\\n- CPX  É UMA FACÇÃO CRIMINOSA DO ALEMAO ALIADA AO CV COMA…  │\n",
       "│ - LULA USA BONE COM SIGLA CPX NO COMPLEXO DO ALEMAO!.\\n\\n- CPX  É UMA FACÇÃO CRIMINOSA DO ALEMAO ALIADA AO CV COMA…  │\n",
       "│ - LULA USA BONE COM SIGLA CPX NO COMPLEXO DO ALEMAO!.\\n\\n- CPX  É UMA FACÇÃO CRIMINOSA DO ALEMAO ALIADA AO CV COMA…  │\n",
       "│ - LULA USA BONE COM SIGLA CPX NO COMPLEXO DO ALEMAO!.\\n\\n- CPX  É UMA FACÇÃO CRIMINOSA DO ALEMAO ALIADA AO CV COMA…  │\n",
       "│ TÁ AÍ PT E PCC É UMA COISA SÓ O PT É UMA FACÇÃO CRIMINOSA A SERVIÇO DO NARCOTRÁFICO E NÃO UM PARTIDO!!! O PT É UM …  │\n",
       "│ CAMINHONEIROS  fechem o CEAGESP... PT NÃO É PARTIDO POLÍTICO É FACÇÃO CRIMINOSA .                                    │\n",
       "│ PRESIDENTE  DA FACÇÃO CRIMINOSA PT  E SUA GANG DE BANDIDOS ...                                                       │\n",
       "│ PRISÃO PARA ESSES TOGADOS BANDIDOS, ALIADOS DA FACÇÃO CRIMINOSA PT E SUA GANG DE LADRÕES DESESPERADOS POR DINHEIRO…  │\n",
       "│ https://www.acidadeon.com/amp/campinas/cotidiano/FAB-lamenta-morte-de-suboficial-morto-em-assalto-em-Campinas-2022…  │\n",
       "│ Não sei se seria uma boa ideia ...\\nNesse momento... ainda cedo pra tomar essa decisão \\nO TSE foi colocado em che…  │\n",
       "├──────────────────────────────────────────────────────────────────────────────────────────────────────────────────────┤\n",
       "│                                                       20 rows                                                        │\n",
       "└──────────────────────────────────────────────────────────────────────────────────────────────────────────────────────┘"
      ]
     },
     "execution_count": 28,
     "metadata": {},
     "output_type": "execute_result"
    }
   ],
   "source": [
    "# As mensagens que possuem as palavras “FACÇÃO” e “CRIMINOSA”; \n",
    "duckdb.sql(\"SELECT text_content_anonymous FROM '../datasets/fakeTelegram_SemTravaZap_BR_2022.parquet'\" \\\n",
    "\"WHERE text_content_anonymous LIKE '%FACÇÃO%' AND text_content_anonymous LIKE '%CRIMINOSA%' \")"
   ]
  },
  {
   "cell_type": "code",
   "execution_count": 29,
   "id": "2ccc1da0",
   "metadata": {},
   "outputs": [
    {
     "data": {
      "text/plain": [
       "┌──────────────────────────────────────────────────────────────────────────────────────────────────────────────────────┐\n",
       "│                                                text_content_anonymous                                                │\n",
       "│                                                       varchar                                                        │\n",
       "├──────────────────────────────────────────────────────────────────────────────────────────────────────────────────────┤\n",
       "│ Espalhe!! Divulgue!! EXIJA!!\\nNão entre nesse jogo de composição do Congresso e Governadores que apoiam Bolsonaro.…  │\n",
       "│ ATENÇÃO A TODAS E SOMENTE MULHERES DESTE GRUPO\\n\\nPOR SABER QUE VCS SÃO A MAIORIA EM TODO MUNDO E SABER DO PODER Q…  │\n",
       "│ Espalhe!! Divulgue!! EXIJA!!\\nNão entre nesse jogo de composição do Congresso e Governadores que apoiam Bolsonaro.…  │\n",
       "│ Bolsonaro ou Lula?\\nO que cada qual já fez e propõe para a *SEGURANÇA PÚBLICA*:\\n\\nO presidente Bolsonaro consegui…  │\n",
       "│ *VIDEO: FUNCIONARIO DA ONU ADMITE QUE ELES CONTROLAM A FERRAMENTA DE BUSCAS DO GOOGLE PARA EMPURRAR A PROPAGANDA D…  │\n",
       "│ BOLSONARO NOMEIA CENTENAS DE NOVOS PRFS PARA REFORÇAR A SEGURANÇA DO BRASIL \\nhttps://www.jornaldacidadeonline.com…  │\n",
       "│ O LULADRÃO TEM QUE IR PARA UM PRESIDIO SE SEGURANÇA MÁXIMA.  É O QUE ELE MERECE.                                     │\n",
       "│ Olá. Uma petista me enviou um post de um Coronel Silveira que se diz patriota, falando um monte bobagens. Fui no c…  │\n",
       "│ UM AMIGO ME PERGUNTOU EM QUEM Q EU VOTEI , RESPONDI Q FOI NO BOLSONARO , ELE ME PERGUNTOU SE EU GOSTO DELE (BOLSON…  │\n",
       "│ UM AMIGO ME PERGUNTOU EM QUEM Q EU VOTEI , RESPONDI Q FOI NO BOLSONARO , ELE ME PERGUNTOU SE EU GOSTO DELE (BOLSON…  │\n",
       "│                                                          ·                                                           │\n",
       "│                                                          ·                                                           │\n",
       "│                                                          ·                                                           │\n",
       "│ 👆🏻 Com esse documento, pretendem instruir os católicos em suas opções políticas… *de maneira tendenciosa*.\\n\\nNa c…  │\n",
       "│ https://youtu.be/DaYy8JNMcKA\\n\\nA QUESTÃO É!! \\n\\nO PRESIDENTE BOLSONARO AGE AGORA EXPONDO TODA A FRAUDE DO SISTEM…  │\n",
       "│ https://youtu.be/DaYy8JNMcKA\\n\\nA QUESTÃO É!! \\n\\nO PRESIDENTE BOLSONARO AGE AGORA EXPONDO TODA A FRAUDE DO SISTEM…  │\n",
       "│ O estudo de Itajaí sobre a ivermectina demonstrou que a COVID-19 tinha tratamento SIM. Por algum motivo, esta info…  │\n",
       "│ PT= CAOS, TROCA DE TIROS, ARBITRARIEDADES, PRISÕES INJUSTAS, PRESOS POLÍTICOS, GUERRA CIVIL, BANHO DE SANGUE, DESA…  │\n",
       "│ PARA AQUELES QUE FORAM ADICIONADOS AQUI SEM A SUA PERMISSÃO,, PEÇO SINCERAMENTE DESCULPAS,,\\n\\n  POR FAVOR MEMBROS…  │\n",
       "│ PRA VC QUE É CONTRA AS ARMAS E O BOLSONARO... VEJA QUEM MAIS COMEMORA NESTE 30/10/22... VC PREFERIU FICAR DESSE LA…  │\n",
       "│ PRA VC QUE É CONTRA AS ARMAS E O BOLSONARO... VEJA QUEM MAIS COMEMORA NESTE 30/10/22... VC PREFERIU FICAR DESSE LA…  │\n",
       "│ PRA VC QUE É CONTRA AS ARMAS E O BOLSONARO... VEJA QUEM MAIS COMEMORA NESTE 30/10/22... VC PREFERIU FICAR DESSE LA…  │\n",
       "│ NÃO ACABOU!\\nCUIDADO COM A CORTINA DE FUMAÇA! FOCO!\\nAINDA NÃO ACABOU!!!\\nO LADRÃ0 chamou a população de criminoso…  │\n",
       "├──────────────────────────────────────────────────────────────────────────────────────────────────────────────────────┤\n",
       "│                                                 353 rows (20 shown)                                                  │\n",
       "└──────────────────────────────────────────────────────────────────────────────────────────────────────────────────────┘"
      ]
     },
     "execution_count": 29,
     "metadata": {},
     "output_type": "execute_result"
    }
   ],
   "source": [
    "# As mensagens que possuem a palavra “SEGURANÇA”. \n",
    "duckdb.sql(\"SELECT text_content_anonymous FROM '../datasets/fakeTelegram_SemTravaZap_BR_2022.parquet'\" \\\n",
    "\"WHERE text_content_anonymous LIKE '%SEGURANÇA%'  \")"
   ]
  }
 ],
 "metadata": {
  "kernelspec": {
   "display_name": "Python 3",
   "language": "python",
   "name": "python3"
  },
  "language_info": {
   "codemirror_mode": {
    "name": "ipython",
    "version": 3
   },
   "file_extension": ".py",
   "mimetype": "text/x-python",
   "name": "python",
   "nbconvert_exporter": "python",
   "pygments_lexer": "ipython3",
   "version": "3.10.2"
  }
 },
 "nbformat": 4,
 "nbformat_minor": 5
}
