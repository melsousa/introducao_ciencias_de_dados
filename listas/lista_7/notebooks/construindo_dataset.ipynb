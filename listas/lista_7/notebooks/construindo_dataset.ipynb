{
 "cells": [
  {
   "cell_type": "code",
   "execution_count": 2,
   "id": "6c426408",
   "metadata": {},
   "outputs": [],
   "source": [
    "from langdetect import detect, DetectorFactory\n",
    "import pandas as pd\n",
    "from tqdm import tqdm"
   ]
  },
  {
   "cell_type": "code",
   "execution_count": 3,
   "id": "5f350fa8",
   "metadata": {},
   "outputs": [
    {
     "data": {
      "text/html": [
       "<div>\n",
       "<style scoped>\n",
       "    .dataframe tbody tr th:only-of-type {\n",
       "        vertical-align: middle;\n",
       "    }\n",
       "\n",
       "    .dataframe tbody tr th {\n",
       "        vertical-align: top;\n",
       "    }\n",
       "\n",
       "    .dataframe thead th {\n",
       "        text-align: right;\n",
       "    }\n",
       "</style>\n",
       "<table border=\"1\" class=\"dataframe\">\n",
       "  <thead>\n",
       "    <tr style=\"text-align: right;\">\n",
       "      <th></th>\n",
       "      <th>texto_original</th>\n",
       "      <th>frequencia</th>\n",
       "      <th>texto_limpo</th>\n",
       "      <th>text_processed</th>\n",
       "    </tr>\n",
       "  </thead>\n",
       "  <tbody>\n",
       "    <tr>\n",
       "      <th>0</th>\n",
       "      <td>▪️ 01/11/2022 - 08:00 \\n\\nÁsia-Pacífico (fecha...</td>\n",
       "      <td>10</td>\n",
       "      <td>01112022 0800 asiapacifico fechado spasx 165 6...</td>\n",
       "      <td>01112022 0800 asiapacifico fechado spasx 165 6...</td>\n",
       "    </tr>\n",
       "    <tr>\n",
       "      <th>1</th>\n",
       "      <td>*02.10.2022 TSE - Governo-SP às 18h 59m 00s*</td>\n",
       "      <td>8</td>\n",
       "      <td>02102022 tse governosp as 18h 59m 00s</td>\n",
       "      <td>02102022 tse governosp 18h 59m 00s</td>\n",
       "    </tr>\n",
       "    <tr>\n",
       "      <th>2</th>\n",
       "      <td>02.10.2022 TSE - Governo-SP às 20h 10m 35s</td>\n",
       "      <td>4</td>\n",
       "      <td>02102022 tse governosp as 20h 10m 35s</td>\n",
       "      <td>02102022 tse governosp 20h 10m 35s</td>\n",
       "    </tr>\n",
       "    <tr>\n",
       "      <th>3</th>\n",
       "      <td>02.10.2022 TSE - Presidente - às 18h 55m 31s</td>\n",
       "      <td>10</td>\n",
       "      <td>02102022 tse presidente as 18h 55m 31s</td>\n",
       "      <td>02102022 tse presidente 18h 55m 31s</td>\n",
       "    </tr>\n",
       "    <tr>\n",
       "      <th>4</th>\n",
       "      <td>*02.10.2022 TSE - Presidente às 20h 02m 45s*</td>\n",
       "      <td>3</td>\n",
       "      <td>02102022 tse presidente as 20h 02m 45s</td>\n",
       "      <td>02102022 tse presidente 20h 02m 45s</td>\n",
       "    </tr>\n",
       "  </tbody>\n",
       "</table>\n",
       "</div>"
      ],
      "text/plain": [
       "                                      texto_original  frequencia  \\\n",
       "0  ▪️ 01/11/2022 - 08:00 \\n\\nÁsia-Pacífico (fecha...          10   \n",
       "1       *02.10.2022 TSE - Governo-SP às 18h 59m 00s*           8   \n",
       "2         02.10.2022 TSE - Governo-SP às 20h 10m 35s           4   \n",
       "3       02.10.2022 TSE - Presidente - às 18h 55m 31s          10   \n",
       "4       *02.10.2022 TSE - Presidente às 20h 02m 45s*           3   \n",
       "\n",
       "                                         texto_limpo  \\\n",
       "0  01112022 0800 asiapacifico fechado spasx 165 6...   \n",
       "1              02102022 tse governosp as 18h 59m 00s   \n",
       "2              02102022 tse governosp as 20h 10m 35s   \n",
       "3             02102022 tse presidente as 18h 55m 31s   \n",
       "4             02102022 tse presidente as 20h 02m 45s   \n",
       "\n",
       "                                      text_processed  \n",
       "0  01112022 0800 asiapacifico fechado spasx 165 6...  \n",
       "1                 02102022 tse governosp 18h 59m 00s  \n",
       "2                 02102022 tse governosp 20h 10m 35s  \n",
       "3                02102022 tse presidente 18h 55m 31s  \n",
       "4                02102022 tse presidente 20h 02m 45s  "
      ]
     },
     "execution_count": 3,
     "metadata": {},
     "output_type": "execute_result"
    }
   ],
   "source": [
    "df = pd.read_csv('../../../datasets/mensagens_com_frequencia_e_texto_processado_Telegram_2022.csv')\n",
    "df.head()"
   ]
  },
  {
   "cell_type": "code",
   "execution_count": 4,
   "id": "feb71bfd",
   "metadata": {},
   "outputs": [
    {
     "data": {
      "text/plain": [
       "(188264, 4)"
      ]
     },
     "execution_count": 4,
     "metadata": {},
     "output_type": "execute_result"
    }
   ],
   "source": [
    "df.shape"
   ]
  },
  {
   "cell_type": "code",
   "execution_count": 5,
   "id": "02614e20",
   "metadata": {},
   "outputs": [
    {
     "name": "stderr",
     "output_type": "stream",
     "text": [
      "100%|██████████| 188264/188264 [12:09<00:00, 257.94it/s]\n"
     ]
    }
   ],
   "source": [
    "\n",
    "# Para resultados mais consistentes do langdetect\n",
    "DetectorFactory.seed = 42\n",
    "\n",
    "# Supondo que seu DataFrame se chame df\n",
    "# Use 'texto_limpo' ou 'text_processed' dependendo da sua preferência\n",
    "tqdm.pandas()  # para barra de progresso\n",
    "def detectar_idioma(texto):\n",
    "    try:\n",
    "        return detect(texto)\n",
    "    except:\n",
    "        return \"erro\"\n",
    "\n",
    "# Aplica a função de detecção de idioma\n",
    "df['idioma'] = df['texto_limpo'].progress_apply(detectar_idioma)\n",
    "\n",
    "# Filtra apenas textos detectados como português ('pt')\n",
    "df_pt = df[df['idioma'] == 'pt'].reset_index(drop=True)\n"
   ]
  },
  {
   "cell_type": "code",
   "execution_count": 6,
   "id": "5908a4ee",
   "metadata": {},
   "outputs": [
    {
     "data": {
      "text/plain": [
       "(165196, 5)"
      ]
     },
     "execution_count": 6,
     "metadata": {},
     "output_type": "execute_result"
    }
   ],
   "source": [
    "df_pt.shape"
   ]
  },
  {
   "cell_type": "code",
   "execution_count": 7,
   "id": "24fbc27b",
   "metadata": {},
   "outputs": [],
   "source": [
    "df_pt.to_csv('../datasets/mensagens_com_frequencia_somente_mensagens_portugues.csv', index=False)"
   ]
  }
 ],
 "metadata": {
  "kernelspec": {
   "display_name": "Python 3",
   "language": "python",
   "name": "python3"
  },
  "language_info": {
   "codemirror_mode": {
    "name": "ipython",
    "version": 3
   },
   "file_extension": ".py",
   "mimetype": "text/x-python",
   "name": "python",
   "nbconvert_exporter": "python",
   "pygments_lexer": "ipython3",
   "version": "3.13.5"
  }
 },
 "nbformat": 4,
 "nbformat_minor": 5
}
